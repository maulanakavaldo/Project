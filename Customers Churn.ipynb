{
  "cells": [
    {
      "cell_type": "markdown",
      "metadata": {},
      "source": [
        "# Customer Churn Project\n",
        "\n",
        "Maulana Kavaldo |\n",
        "3 Oktober 2022 |\n",
        "https://linkedin.com/in/maulana-kavaldo\n",
        "_______"
      ]
    },
    {
      "cell_type": "code",
      "execution_count": 1,
      "metadata": {
        "id": "UgfPfuq6wElf"
      },
      "outputs": [],
      "source": [
        "import pandas as pd\n",
        "import numpy as np\n",
        "import matplotlib.pyplot as plt\n",
        "%matplotlib inline\n",
        "import seaborn as sns\n",
        "import scipy.stats\n",
        "import warnings\n",
        "import pickle\n",
        "warnings.filterwarnings('ignore')"
      ]
    },
    {
      "cell_type": "markdown",
      "metadata": {
        "id": "kPg9P4kmwrGQ"
      },
      "source": [
        "# Input Data"
      ]
    },
    {
      "cell_type": "code",
      "execution_count": 2,
      "metadata": {
        "colab": {
          "base_uri": "https://localhost:8080/",
          "height": 424
        },
        "id": "totWpS4pwo4R",
        "outputId": "d9ef1fd6-1190-402c-9587-51d58727d7ff"
      },
      "outputs": [
        {
          "data": {
            "text/html": [
              "<div>\n",
              "<style scoped>\n",
              "    .dataframe tbody tr th:only-of-type {\n",
              "        vertical-align: middle;\n",
              "    }\n",
              "\n",
              "    .dataframe tbody tr th {\n",
              "        vertical-align: top;\n",
              "    }\n",
              "\n",
              "    .dataframe thead th {\n",
              "        text-align: right;\n",
              "    }\n",
              "</style>\n",
              "<table border=\"1\" class=\"dataframe\">\n",
              "  <thead>\n",
              "    <tr style=\"text-align: right;\">\n",
              "      <th></th>\n",
              "      <th>CustomerId</th>\n",
              "      <th>Gender</th>\n",
              "      <th>Age</th>\n",
              "      <th>CreditScore</th>\n",
              "      <th>EstimatedSalary</th>\n",
              "      <th>HasCrCard</th>\n",
              "      <th>Exited</th>\n",
              "    </tr>\n",
              "  </thead>\n",
              "  <tbody>\n",
              "    <tr>\n",
              "      <th>0</th>\n",
              "      <td>15634602</td>\n",
              "      <td>Female</td>\n",
              "      <td>42</td>\n",
              "      <td>619</td>\n",
              "      <td>101348.88</td>\n",
              "      <td>1</td>\n",
              "      <td>1</td>\n",
              "    </tr>\n",
              "    <tr>\n",
              "      <th>1</th>\n",
              "      <td>15647311</td>\n",
              "      <td>Female</td>\n",
              "      <td>41</td>\n",
              "      <td>608</td>\n",
              "      <td>112542.58</td>\n",
              "      <td>0</td>\n",
              "      <td>0</td>\n",
              "    </tr>\n",
              "    <tr>\n",
              "      <th>2</th>\n",
              "      <td>15619304</td>\n",
              "      <td>Female</td>\n",
              "      <td>42</td>\n",
              "      <td>502</td>\n",
              "      <td>113931.57</td>\n",
              "      <td>1</td>\n",
              "      <td>1</td>\n",
              "    </tr>\n",
              "    <tr>\n",
              "      <th>3</th>\n",
              "      <td>15701354</td>\n",
              "      <td>Female</td>\n",
              "      <td>39</td>\n",
              "      <td>699</td>\n",
              "      <td>93826.63</td>\n",
              "      <td>0</td>\n",
              "      <td>0</td>\n",
              "    </tr>\n",
              "    <tr>\n",
              "      <th>4</th>\n",
              "      <td>15737888</td>\n",
              "      <td>Female</td>\n",
              "      <td>43</td>\n",
              "      <td>850</td>\n",
              "      <td>79084.10</td>\n",
              "      <td>1</td>\n",
              "      <td>0</td>\n",
              "    </tr>\n",
              "  </tbody>\n",
              "</table>\n",
              "</div>"
            ],
            "text/plain": [
              "   CustomerId  Gender  Age  CreditScore  EstimatedSalary  HasCrCard  Exited\n",
              "0    15634602  Female   42          619        101348.88          1       1\n",
              "1    15647311  Female   41          608        112542.58          0       0\n",
              "2    15619304  Female   42          502        113931.57          1       1\n",
              "3    15701354  Female   39          699         93826.63          0       0\n",
              "4    15737888  Female   43          850         79084.10          1       0"
            ]
          },
          "execution_count": 2,
          "metadata": {},
          "output_type": "execute_result"
        }
      ],
      "source": [
        "df = pd.read_csv('../.dataset/churn.csv')\n",
        "df = df[[\"CustomerId\", \"Gender\", \"Age\", \"CreditScore\", \"EstimatedSalary\", \"HasCrCard\", \"Exited\"]]\n",
        "df.head()"
      ]
    },
    {
      "cell_type": "code",
      "execution_count": 3,
      "metadata": {
        "colab": {
          "base_uri": "https://localhost:8080/"
        },
        "id": "AVYUGw2Czykc",
        "outputId": "6c55f02e-6345-456b-f72e-07764db6428f"
      },
      "outputs": [
        {
          "name": "stdout",
          "output_type": "stream",
          "text": [
            "<class 'pandas.core.frame.DataFrame'>\n",
            "RangeIndex: 10000 entries, 0 to 9999\n",
            "Data columns (total 7 columns):\n",
            " #   Column           Non-Null Count  Dtype  \n",
            "---  ------           --------------  -----  \n",
            " 0   CustomerId       10000 non-null  int64  \n",
            " 1   Gender           10000 non-null  object \n",
            " 2   Age              10000 non-null  int64  \n",
            " 3   CreditScore      10000 non-null  int64  \n",
            " 4   EstimatedSalary  10000 non-null  float64\n",
            " 5   HasCrCard        10000 non-null  int64  \n",
            " 6   Exited           10000 non-null  int64  \n",
            "dtypes: float64(1), int64(5), object(1)\n",
            "memory usage: 547.0+ KB\n"
          ]
        }
      ],
      "source": [
        "df.info()"
      ]
    },
    {
      "cell_type": "code",
      "execution_count": 4,
      "metadata": {
        "colab": {
          "base_uri": "https://localhost:8080/",
          "height": 238
        },
        "id": "48X2PXrV04PQ",
        "outputId": "c88e31bc-fae8-4f76-f855-be2a54df610b"
      },
      "outputs": [
        {
          "data": {
            "text/html": [
              "<div>\n",
              "<style scoped>\n",
              "    .dataframe tbody tr th:only-of-type {\n",
              "        vertical-align: middle;\n",
              "    }\n",
              "\n",
              "    .dataframe tbody tr th {\n",
              "        vertical-align: top;\n",
              "    }\n",
              "\n",
              "    .dataframe thead th {\n",
              "        text-align: right;\n",
              "    }\n",
              "</style>\n",
              "<table border=\"1\" class=\"dataframe\">\n",
              "  <thead>\n",
              "    <tr style=\"text-align: right;\">\n",
              "      <th></th>\n",
              "      <th>Total</th>\n",
              "      <th>Percent</th>\n",
              "    </tr>\n",
              "  </thead>\n",
              "  <tbody>\n",
              "    <tr>\n",
              "      <th>CustomerId</th>\n",
              "      <td>0</td>\n",
              "      <td>0.0</td>\n",
              "    </tr>\n",
              "    <tr>\n",
              "      <th>Gender</th>\n",
              "      <td>0</td>\n",
              "      <td>0.0</td>\n",
              "    </tr>\n",
              "    <tr>\n",
              "      <th>Age</th>\n",
              "      <td>0</td>\n",
              "      <td>0.0</td>\n",
              "    </tr>\n",
              "    <tr>\n",
              "      <th>CreditScore</th>\n",
              "      <td>0</td>\n",
              "      <td>0.0</td>\n",
              "    </tr>\n",
              "    <tr>\n",
              "      <th>EstimatedSalary</th>\n",
              "      <td>0</td>\n",
              "      <td>0.0</td>\n",
              "    </tr>\n",
              "    <tr>\n",
              "      <th>HasCrCard</th>\n",
              "      <td>0</td>\n",
              "      <td>0.0</td>\n",
              "    </tr>\n",
              "    <tr>\n",
              "      <th>Exited</th>\n",
              "      <td>0</td>\n",
              "      <td>0.0</td>\n",
              "    </tr>\n",
              "  </tbody>\n",
              "</table>\n",
              "</div>"
            ],
            "text/plain": [
              "                 Total  Percent\n",
              "CustomerId           0      0.0\n",
              "Gender               0      0.0\n",
              "Age                  0      0.0\n",
              "CreditScore          0      0.0\n",
              "EstimatedSalary      0      0.0\n",
              "HasCrCard            0      0.0\n",
              "Exited               0      0.0"
            ]
          },
          "execution_count": 4,
          "metadata": {},
          "output_type": "execute_result"
        }
      ],
      "source": [
        "#MISSING VALUE:\n",
        "total = df.isnull().sum().sort_values(ascending=False)\n",
        "percent = (df.isnull().sum()/df.isnull().count()).sort_values(ascending=False)\n",
        "missing_data = pd.concat([total, percent], axis=1, keys=['Total', 'Percent'])\n",
        "missing_data"
      ]
    },
    {
      "cell_type": "code",
      "execution_count": 5,
      "metadata": {
        "colab": {
          "base_uri": "https://localhost:8080/"
        },
        "id": "6wgvLjmHw8K4",
        "outputId": "d03e7d13-22e1-4fa9-cd10-58d18a1358a1"
      },
      "outputs": [
        {
          "data": {
            "text/plain": [
              "Index(['CustomerId', 'Age', 'CreditScore', 'EstimatedSalary', 'HasCrCard',\n",
              "       'Exited'],\n",
              "      dtype='object')"
            ]
          },
          "execution_count": 5,
          "metadata": {},
          "output_type": "execute_result"
        }
      ],
      "source": [
        "df.select_dtypes(np.number).columns"
      ]
    },
    {
      "cell_type": "code",
      "execution_count": 6,
      "metadata": {
        "colab": {
          "base_uri": "https://localhost:8080/"
        },
        "id": "rnHi6Pnkw-o-",
        "outputId": "1cff0de7-07c5-4952-f49c-820385e42cac"
      },
      "outputs": [
        {
          "data": {
            "text/plain": [
              "Index(['Gender'], dtype='object')"
            ]
          },
          "execution_count": 6,
          "metadata": {},
          "output_type": "execute_result"
        }
      ],
      "source": [
        "#Data Kategorik\n",
        "df.select_dtypes('object').columns"
      ]
    },
    {
      "cell_type": "code",
      "execution_count": 7,
      "metadata": {
        "colab": {
          "base_uri": "https://localhost:8080/"
        },
        "id": "bAR6WAIJxGCZ",
        "outputId": "77180f53-8f83-43a9-bde0-914b05c82351"
      },
      "outputs": [
        {
          "data": {
            "text/plain": [
              "0"
            ]
          },
          "execution_count": 7,
          "metadata": {},
          "output_type": "execute_result"
        }
      ],
      "source": [
        "#Mengecek Duplikat\n",
        "len(df[df.duplicated()])"
      ]
    },
    {
      "cell_type": "code",
      "execution_count": 8,
      "metadata": {
        "colab": {
          "base_uri": "https://localhost:8080/"
        },
        "id": "Vn3Gt8lwxBlH",
        "outputId": "2abe9228-53cb-4834-aaf3-97d3638a4fcb"
      },
      "outputs": [
        {
          "data": {
            "text/plain": [
              "CustomerId         10000\n",
              "Gender                 2\n",
              "Age                   70\n",
              "CreditScore          460\n",
              "EstimatedSalary     9999\n",
              "HasCrCard              2\n",
              "Exited                 2\n",
              "dtype: int64"
            ]
          },
          "execution_count": 8,
          "metadata": {},
          "output_type": "execute_result"
        }
      ],
      "source": [
        "df.nunique()"
      ]
    },
    {
      "cell_type": "code",
      "execution_count": 9,
      "metadata": {
        "colab": {
          "base_uri": "https://localhost:8080/",
          "height": 300
        },
        "id": "PFvdR4xIxJu3",
        "outputId": "11ca7461-140b-44a6-a4b1-4989d66d9a47"
      },
      "outputs": [
        {
          "data": {
            "text/html": [
              "<div>\n",
              "<style scoped>\n",
              "    .dataframe tbody tr th:only-of-type {\n",
              "        vertical-align: middle;\n",
              "    }\n",
              "\n",
              "    .dataframe tbody tr th {\n",
              "        vertical-align: top;\n",
              "    }\n",
              "\n",
              "    .dataframe thead th {\n",
              "        text-align: right;\n",
              "    }\n",
              "</style>\n",
              "<table border=\"1\" class=\"dataframe\">\n",
              "  <thead>\n",
              "    <tr style=\"text-align: right;\">\n",
              "      <th></th>\n",
              "      <th>CustomerId</th>\n",
              "      <th>Age</th>\n",
              "      <th>CreditScore</th>\n",
              "      <th>EstimatedSalary</th>\n",
              "      <th>HasCrCard</th>\n",
              "      <th>Exited</th>\n",
              "    </tr>\n",
              "  </thead>\n",
              "  <tbody>\n",
              "    <tr>\n",
              "      <th>count</th>\n",
              "      <td>1.000000e+04</td>\n",
              "      <td>10000.000000</td>\n",
              "      <td>10000.000000</td>\n",
              "      <td>10000.000000</td>\n",
              "      <td>10000.00000</td>\n",
              "      <td>10000.000000</td>\n",
              "    </tr>\n",
              "    <tr>\n",
              "      <th>mean</th>\n",
              "      <td>1.569094e+07</td>\n",
              "      <td>38.921800</td>\n",
              "      <td>650.528800</td>\n",
              "      <td>100090.239881</td>\n",
              "      <td>0.70550</td>\n",
              "      <td>0.203700</td>\n",
              "    </tr>\n",
              "    <tr>\n",
              "      <th>std</th>\n",
              "      <td>7.193619e+04</td>\n",
              "      <td>10.487806</td>\n",
              "      <td>96.653299</td>\n",
              "      <td>57510.492818</td>\n",
              "      <td>0.45584</td>\n",
              "      <td>0.402769</td>\n",
              "    </tr>\n",
              "    <tr>\n",
              "      <th>min</th>\n",
              "      <td>1.556570e+07</td>\n",
              "      <td>18.000000</td>\n",
              "      <td>350.000000</td>\n",
              "      <td>11.580000</td>\n",
              "      <td>0.00000</td>\n",
              "      <td>0.000000</td>\n",
              "    </tr>\n",
              "    <tr>\n",
              "      <th>25%</th>\n",
              "      <td>1.562853e+07</td>\n",
              "      <td>32.000000</td>\n",
              "      <td>584.000000</td>\n",
              "      <td>51002.110000</td>\n",
              "      <td>0.00000</td>\n",
              "      <td>0.000000</td>\n",
              "    </tr>\n",
              "    <tr>\n",
              "      <th>50%</th>\n",
              "      <td>1.569074e+07</td>\n",
              "      <td>37.000000</td>\n",
              "      <td>652.000000</td>\n",
              "      <td>100193.915000</td>\n",
              "      <td>1.00000</td>\n",
              "      <td>0.000000</td>\n",
              "    </tr>\n",
              "    <tr>\n",
              "      <th>75%</th>\n",
              "      <td>1.575323e+07</td>\n",
              "      <td>44.000000</td>\n",
              "      <td>718.000000</td>\n",
              "      <td>149388.247500</td>\n",
              "      <td>1.00000</td>\n",
              "      <td>0.000000</td>\n",
              "    </tr>\n",
              "    <tr>\n",
              "      <th>max</th>\n",
              "      <td>1.581569e+07</td>\n",
              "      <td>92.000000</td>\n",
              "      <td>850.000000</td>\n",
              "      <td>199992.480000</td>\n",
              "      <td>1.00000</td>\n",
              "      <td>1.000000</td>\n",
              "    </tr>\n",
              "  </tbody>\n",
              "</table>\n",
              "</div>"
            ],
            "text/plain": [
              "         CustomerId           Age   CreditScore  EstimatedSalary    HasCrCard  \\\n",
              "count  1.000000e+04  10000.000000  10000.000000     10000.000000  10000.00000   \n",
              "mean   1.569094e+07     38.921800    650.528800    100090.239881      0.70550   \n",
              "std    7.193619e+04     10.487806     96.653299     57510.492818      0.45584   \n",
              "min    1.556570e+07     18.000000    350.000000        11.580000      0.00000   \n",
              "25%    1.562853e+07     32.000000    584.000000     51002.110000      0.00000   \n",
              "50%    1.569074e+07     37.000000    652.000000    100193.915000      1.00000   \n",
              "75%    1.575323e+07     44.000000    718.000000    149388.247500      1.00000   \n",
              "max    1.581569e+07     92.000000    850.000000    199992.480000      1.00000   \n",
              "\n",
              "             Exited  \n",
              "count  10000.000000  \n",
              "mean       0.203700  \n",
              "std        0.402769  \n",
              "min        0.000000  \n",
              "25%        0.000000  \n",
              "50%        0.000000  \n",
              "75%        0.000000  \n",
              "max        1.000000  "
            ]
          },
          "execution_count": 9,
          "metadata": {},
          "output_type": "execute_result"
        }
      ],
      "source": [
        "df.describe()"
      ]
    },
    {
      "cell_type": "markdown",
      "metadata": {
        "id": "947nTvKnxc2q"
      },
      "source": [
        "HasCrCard mengandung kategorikal data. Sebanyak 25% dari nasabah tidak memiliki kartu kredit."
      ]
    },
    {
      "cell_type": "code",
      "execution_count": 10,
      "metadata": {
        "colab": {
          "base_uri": "https://localhost:8080/",
          "height": 175
        },
        "id": "8-vErO9cxYTX",
        "outputId": "5ae29343-ac88-4493-e2ad-98df0ecb159c"
      },
      "outputs": [
        {
          "data": {
            "text/html": [
              "<div>\n",
              "<style scoped>\n",
              "    .dataframe tbody tr th:only-of-type {\n",
              "        vertical-align: middle;\n",
              "    }\n",
              "\n",
              "    .dataframe tbody tr th {\n",
              "        vertical-align: top;\n",
              "    }\n",
              "\n",
              "    .dataframe thead th {\n",
              "        text-align: right;\n",
              "    }\n",
              "</style>\n",
              "<table border=\"1\" class=\"dataframe\">\n",
              "  <thead>\n",
              "    <tr style=\"text-align: right;\">\n",
              "      <th></th>\n",
              "      <th>Gender</th>\n",
              "    </tr>\n",
              "  </thead>\n",
              "  <tbody>\n",
              "    <tr>\n",
              "      <th>count</th>\n",
              "      <td>10000</td>\n",
              "    </tr>\n",
              "    <tr>\n",
              "      <th>unique</th>\n",
              "      <td>2</td>\n",
              "    </tr>\n",
              "    <tr>\n",
              "      <th>top</th>\n",
              "      <td>Male</td>\n",
              "    </tr>\n",
              "    <tr>\n",
              "      <th>freq</th>\n",
              "      <td>5457</td>\n",
              "    </tr>\n",
              "  </tbody>\n",
              "</table>\n",
              "</div>"
            ],
            "text/plain": [
              "       Gender\n",
              "count   10000\n",
              "unique      2\n",
              "top      Male\n",
              "freq     5457"
            ]
          },
          "execution_count": 10,
          "metadata": {},
          "output_type": "execute_result"
        }
      ],
      "source": [
        "df.describe(include='object')"
      ]
    },
    {
      "attachments": {},
      "cell_type": "markdown",
      "metadata": {
        "id": "03zdvQjXxh64"
      },
      "source": [
        "## Target \n",
        "Mengidentifikasi nasabah apakah dia akan berhenti menjadi nasabah.\n",
        "- Variabel 'Exited' : 0 (tidak berhenti) dan 1 (berhenti)."
      ]
    },
    {
      "cell_type": "code",
      "execution_count": 11,
      "metadata": {
        "id": "VfLmFp6zxlG3"
      },
      "outputs": [],
      "source": [
        "df.drop(['CustomerId'], axis=1, inplace=True)"
      ]
    },
    {
      "cell_type": "markdown",
      "metadata": {
        "id": "XnHTLNZvxu7W"
      },
      "source": [
        "**Label Encoder untuk Gender**"
      ]
    },
    {
      "cell_type": "markdown",
      "metadata": {
        "id": "0hjs2NCWxzl-"
      },
      "source": [
        "0 = Female ; 1 = Male"
      ]
    },
    {
      "cell_type": "code",
      "execution_count": 12,
      "metadata": {
        "colab": {
          "base_uri": "https://localhost:8080/",
          "height": 424
        },
        "id": "RMTUPoglxua-",
        "outputId": "b494008b-a7c1-46b8-dd52-e8018329a319"
      },
      "outputs": [
        {
          "data": {
            "text/html": [
              "<div>\n",
              "<style scoped>\n",
              "    .dataframe tbody tr th:only-of-type {\n",
              "        vertical-align: middle;\n",
              "    }\n",
              "\n",
              "    .dataframe tbody tr th {\n",
              "        vertical-align: top;\n",
              "    }\n",
              "\n",
              "    .dataframe thead th {\n",
              "        text-align: right;\n",
              "    }\n",
              "</style>\n",
              "<table border=\"1\" class=\"dataframe\">\n",
              "  <thead>\n",
              "    <tr style=\"text-align: right;\">\n",
              "      <th></th>\n",
              "      <th>Gender</th>\n",
              "      <th>Age</th>\n",
              "      <th>CreditScore</th>\n",
              "      <th>EstimatedSalary</th>\n",
              "      <th>HasCrCard</th>\n",
              "      <th>Exited</th>\n",
              "    </tr>\n",
              "  </thead>\n",
              "  <tbody>\n",
              "    <tr>\n",
              "      <th>0</th>\n",
              "      <td>0</td>\n",
              "      <td>42</td>\n",
              "      <td>619</td>\n",
              "      <td>101348.88</td>\n",
              "      <td>1</td>\n",
              "      <td>1</td>\n",
              "    </tr>\n",
              "    <tr>\n",
              "      <th>1</th>\n",
              "      <td>0</td>\n",
              "      <td>41</td>\n",
              "      <td>608</td>\n",
              "      <td>112542.58</td>\n",
              "      <td>0</td>\n",
              "      <td>0</td>\n",
              "    </tr>\n",
              "    <tr>\n",
              "      <th>2</th>\n",
              "      <td>0</td>\n",
              "      <td>42</td>\n",
              "      <td>502</td>\n",
              "      <td>113931.57</td>\n",
              "      <td>1</td>\n",
              "      <td>1</td>\n",
              "    </tr>\n",
              "    <tr>\n",
              "      <th>3</th>\n",
              "      <td>0</td>\n",
              "      <td>39</td>\n",
              "      <td>699</td>\n",
              "      <td>93826.63</td>\n",
              "      <td>0</td>\n",
              "      <td>0</td>\n",
              "    </tr>\n",
              "    <tr>\n",
              "      <th>4</th>\n",
              "      <td>0</td>\n",
              "      <td>43</td>\n",
              "      <td>850</td>\n",
              "      <td>79084.10</td>\n",
              "      <td>1</td>\n",
              "      <td>0</td>\n",
              "    </tr>\n",
              "    <tr>\n",
              "      <th>...</th>\n",
              "      <td>...</td>\n",
              "      <td>...</td>\n",
              "      <td>...</td>\n",
              "      <td>...</td>\n",
              "      <td>...</td>\n",
              "      <td>...</td>\n",
              "    </tr>\n",
              "    <tr>\n",
              "      <th>9995</th>\n",
              "      <td>1</td>\n",
              "      <td>39</td>\n",
              "      <td>771</td>\n",
              "      <td>96270.64</td>\n",
              "      <td>1</td>\n",
              "      <td>0</td>\n",
              "    </tr>\n",
              "    <tr>\n",
              "      <th>9996</th>\n",
              "      <td>1</td>\n",
              "      <td>35</td>\n",
              "      <td>516</td>\n",
              "      <td>101699.77</td>\n",
              "      <td>1</td>\n",
              "      <td>0</td>\n",
              "    </tr>\n",
              "    <tr>\n",
              "      <th>9997</th>\n",
              "      <td>0</td>\n",
              "      <td>36</td>\n",
              "      <td>709</td>\n",
              "      <td>42085.58</td>\n",
              "      <td>0</td>\n",
              "      <td>1</td>\n",
              "    </tr>\n",
              "    <tr>\n",
              "      <th>9998</th>\n",
              "      <td>1</td>\n",
              "      <td>42</td>\n",
              "      <td>772</td>\n",
              "      <td>92888.52</td>\n",
              "      <td>1</td>\n",
              "      <td>1</td>\n",
              "    </tr>\n",
              "    <tr>\n",
              "      <th>9999</th>\n",
              "      <td>0</td>\n",
              "      <td>28</td>\n",
              "      <td>792</td>\n",
              "      <td>38190.78</td>\n",
              "      <td>1</td>\n",
              "      <td>0</td>\n",
              "    </tr>\n",
              "  </tbody>\n",
              "</table>\n",
              "<p>10000 rows × 6 columns</p>\n",
              "</div>"
            ],
            "text/plain": [
              "      Gender  Age  CreditScore  EstimatedSalary  HasCrCard  Exited\n",
              "0          0   42          619        101348.88          1       1\n",
              "1          0   41          608        112542.58          0       0\n",
              "2          0   42          502        113931.57          1       1\n",
              "3          0   39          699         93826.63          0       0\n",
              "4          0   43          850         79084.10          1       0\n",
              "...      ...  ...          ...              ...        ...     ...\n",
              "9995       1   39          771         96270.64          1       0\n",
              "9996       1   35          516        101699.77          1       0\n",
              "9997       0   36          709         42085.58          0       1\n",
              "9998       1   42          772         92888.52          1       1\n",
              "9999       0   28          792         38190.78          1       0\n",
              "\n",
              "[10000 rows x 6 columns]"
            ]
          },
          "execution_count": 12,
          "metadata": {},
          "output_type": "execute_result"
        }
      ],
      "source": [
        "from sklearn import preprocessing\n",
        "\n",
        "le = preprocessing.LabelEncoder()\n",
        "df['Gender'] = le.fit_transform(df['Gender'])\n",
        "df"
      ]
    },
    {
      "cell_type": "markdown",
      "metadata": {
        "id": "FBfbW9SQyL-P"
      },
      "source": [
        "Kategorikal data:\n",
        "\n",
        "- Gender\n",
        "- HasCrCard\n",
        "\n",
        "Numerikal data:\n",
        "- Age\n",
        "- CreditScore\n",
        "- EstimatedSalary"
      ]
    },
    {
      "cell_type": "markdown",
      "metadata": {
        "id": "0FSZi6aGzOMF"
      },
      "source": [
        "# EDA"
      ]
    },
    {
      "cell_type": "markdown",
      "metadata": {
        "id": "_klnD00kzRaj"
      },
      "source": [
        "## Status Target Data"
      ]
    },
    {
      "cell_type": "code",
      "execution_count": 13,
      "metadata": {
        "colab": {
          "base_uri": "https://localhost:8080/",
          "height": 482
        },
        "id": "k5LZ7roAyJTZ",
        "outputId": "d7de4f26-f832-40d4-b5ca-b6810e004096"
      },
      "outputs": [
        {
          "data": {
            "image/png": "[encoded data removed]",
            "text/plain": [
              "<Figure size 500x500 with 1 Axes>"
            ]
          },
          "metadata": {},
          "output_type": "display_data"
        }
      ],
      "source": [
        "df['Exited'].value_counts().plot.pie(explode=[0.05, 0.05], autopct='%1.1f%%', startangle=90, shadow=True, figsize=(5,5))\n",
        "plt.title('Pie Chart for Churn')\n",
        "plt.show()"
      ]
    },
    {
      "cell_type": "markdown",
      "metadata": {
        "id": "a2wMjea11cFl"
      },
      "source": [
        "Dapat disimpulkan bahwa sekitar 20% nasabah telah menutup akunnya."
      ]
    },
    {
      "attachments": {},
      "cell_type": "markdown",
      "metadata": {
        "id": "qbyEZFCs1eGH"
      },
      "source": [
        "Adanya ketimpangan (skewed) antara total `` No Exited dan Exited ``. Proporsi minority class Exited sebesar 20.37%, yang dimana masuk ke dalam kategori imbalanced data."
      ]
    },
    {
      "cell_type": "code",
      "execution_count": 14,
      "metadata": {
        "colab": {
          "base_uri": "https://localhost:8080/"
        },
        "id": "roEsoRd51rlI",
        "outputId": "4af4fa25-edd7-4f23-89d2-c796a9b5d12f"
      },
      "outputs": [
        {
          "data": {
            "text/plain": [
              "0    7963\n",
              "1    2037\n",
              "Name: Exited, dtype: int64"
            ]
          },
          "execution_count": 14,
          "metadata": {},
          "output_type": "execute_result"
        }
      ],
      "source": [
        "df['Exited'].value_counts()"
      ]
    },
    {
      "cell_type": "markdown",
      "metadata": {
        "id": "mdnJeGd81y8d"
      },
      "source": [
        "Sebanyak 2037 Nasabah yang ada di dataset ini yang melakukan Churn dan 7963 Nasabah tidak melakukan Churn"
      ]
    },
    {
      "cell_type": "markdown",
      "metadata": {
        "id": "WZStA6Pe18BD"
      },
      "source": [
        "## Hubungan Kategorikal Data terhadap Target"
      ]
    },
    {
      "cell_type": "code",
      "execution_count": 21,
      "metadata": {
        "colab": {
          "base_uri": "https://localhost:8080/",
          "height": 541
        },
        "id": "4TtNGj-H19TL",
        "outputId": "9c669366-1dc6-4d6b-b37c-c4fd3513a8b1"
      },
      "outputs": [
        {
          "data": {
            "image/png": "[encoded data removed]",
            "text/plain": [
              "<Figure size 400x400 with 1 Axes>"
            ]
          },
          "metadata": {},
          "output_type": "display_data"
        },
        {
          "data": {
            "image/png": "[encoded data removed]",
            "text/plain": [
              "<Figure size 400x400 with 1 Axes>"
            ]
          },
          "metadata": {},
          "output_type": "display_data"
        }
      ],
      "source": [
        "for i, predictor in enumerate(df.drop(columns=['Age', 'CreditScore', 'EstimatedSalary', 'Exited'])):\n",
        "  plt.rcParams['figure.figsize'] = (4,4)\n",
        "  plt.figure(i)\n",
        "  sns.countplot(data=df, x=predictor, hue='Exited')"
      ]
    },
    {
      "cell_type": "markdown",
      "metadata": {
        "id": "l6w42Sjl2Esh"
      },
      "source": [
        "\n",
        "*   *Hubungan Gender dengan Target Exited*\n",
        "\n",
        "Lebih dari 1000 Nasabah bergender perempuan yang melakukan Churn, dimana angka tersebut melebihi jumlah Laki-laki yang melakukan Churn yang jumlahnya kurang dari 1000. Hal ini bisa disebabkan karena jumlah nasabah Laki-laki yang tidak melakukan Churn jauh lebih banyak dari nasabah Perempuan, jauh melampaui angka 4000 sedangkan nasabah perempuan di antara 3000 hingga 4000.\n",
        "*   *Hubungan Jumlah Pengguna Credit Card dengan Target Exited*\n",
        "\n",
        "Pengguna Credit Card lebih banyak yang melakukan Churn, dimana jumlahnya melampaui angka 1000 dibandingkan yang tidak melakukan Churn. Namun terdapat ketimpangan yang jauh pada pengguna Credit Card yang tidak melakukan Churn "
      ]
    },
    {
      "cell_type": "markdown",
      "metadata": {
        "id": "xI3XtIChPAyS"
      },
      "source": [
        "## Hubungan Numerikal Data terhadap Target"
      ]
    },
    {
      "cell_type": "markdown",
      "metadata": {
        "id": "iwzjyC8dPDWC"
      },
      "source": [
        "**1.) Age vs Exited**"
      ]
    },
    {
      "cell_type": "code",
      "execution_count": 20,
      "metadata": {
        "colab": {
          "base_uri": "https://localhost:8080/",
          "height": 471
        },
        "id": "LlIKhw59PFL0",
        "outputId": "e3673f46-3798-42bc-9d52-a362605f60e9"
      },
      "outputs": [
        {
          "data": {
            "image/png": "[encoded data removed]",
            "text/plain": [
              "<Figure size 800x200 with 1 Axes>"
            ]
          },
          "metadata": {},
          "output_type": "display_data"
        }
      ],
      "source": [
        "plt.rcParams['figure.figsize'] = (8,2)\n",
        "color = plt.cm.copper(np.linspace(0, 0.5, 20))\n",
        "((df.groupby(['Age'])['Exited'].mean())*100).sort_values(ascending=False).head(30).plot.bar()\n",
        "plt.title('Age with most churn percentage', fontsize=20)\n",
        "plt.xlabel('Age', fontsize=15)\n",
        "plt.ylabel('Percentage', fontsize=15)\n",
        "plt.show()"
      ]
    },
    {
      "cell_type": "code",
      "execution_count": 22,
      "metadata": {
        "colab": {
          "base_uri": "https://localhost:8080/",
          "height": 442
        },
        "id": "XF-6AyfFPPhj",
        "outputId": "39e8c73b-f095-45b6-f908-6b2b6d2b0981"
      },
      "outputs": [
        {
          "data": {
            "image/png": "[encoded data removed]",
            "text/plain": [
              "<Figure size 400x400 with 1 Axes>"
            ]
          },
          "metadata": {},
          "output_type": "display_data"
        }
      ],
      "source": [
        "sns.boxplot( x = 'Exited',y = 'Age', data = df )\n",
        "plt.rcParams['figure.figsize'] = (5,5)\n",
        "plt.show()"
      ]
    },
    {
      "cell_type": "markdown",
      "metadata": {
        "id": "5Sdy8Z5jPdLy"
      },
      "source": [
        "**2.) CreditScore vs Exited**"
      ]
    },
    {
      "cell_type": "code",
      "execution_count": 25,
      "metadata": {
        "colab": {
          "base_uri": "https://localhost:8080/",
          "height": 478
        },
        "id": "crOrQTncPfwq",
        "outputId": "bf6e317e-a918-4ebd-a62c-bae6cdeb2a4f"
      },
      "outputs": [
        {
          "data": {
            "image/png": "[encoded data removed]",
            "text/plain": [
              "<Figure size 1000x300 with 1 Axes>"
            ]
          },
          "metadata": {},
          "output_type": "display_data"
        }
      ],
      "source": [
        "plt.rcParams['figure.figsize'] = (10,3)\n",
        "# color = plt.cm.copper(np.linspace(0, 0.5, 20))\n",
        "((df.groupby(['CreditScore'])['Exited'].mean())*100).sort_values(ascending=False).head(50).plot.bar()\n",
        "plt.title('CreditScore with most churn percentage', fontsize=20)\n",
        "plt.xlabel('Credit Score', fontsize=15)\n",
        "plt.ylabel('Percentage', fontsize=15)\n",
        "plt.show()"
      ]
    },
    {
      "cell_type": "code",
      "execution_count": 32,
      "metadata": {
        "colab": {
          "base_uri": "https://localhost:8080/",
          "height": 442
        },
        "id": "KFOUlwbQPizQ",
        "outputId": "a67d4350-8fd3-4429-c086-dc1d65391cb2"
      },
      "outputs": [
        {
          "data": {
            "image/png": "[encoded data removed]",
            "text/plain": [
              "<Figure size 400x400 with 1 Axes>"
            ]
          },
          "metadata": {},
          "output_type": "display_data"
        }
      ],
      "source": [
        "sns.boxplot( x = 'Exited',y = 'CreditScore', data = df )\n",
        "plt.rcParams['figure.figsize'] = (6,4)\n",
        "plt.show()"
      ]
    },
    {
      "cell_type": "markdown",
      "metadata": {
        "id": "kCFBWVS9Pnbu"
      },
      "source": [
        "**3.) EstimatedSalary vs Exited**"
      ]
    },
    {
      "cell_type": "code",
      "execution_count": 29,
      "metadata": {
        "colab": {
          "base_uri": "https://localhost:8080/",
          "height": 442
        },
        "id": "4BP4RCsePtVe",
        "outputId": "f3bbcdbb-c2b0-4a35-e57e-fa697cadcb54"
      },
      "outputs": [
        {
          "data": {
            "image/png": "[encoded data removed]",
            "text/plain": [
              "<Figure size 600x400 with 1 Axes>"
            ]
          },
          "metadata": {},
          "output_type": "display_data"
        }
      ],
      "source": [
        "sns.boxplot( x = 'Exited',y = 'EstimatedSalary', data = df )\n",
        "plt.rcParams['figure.figsize'] = (2,4)\n",
        "plt.show()"
      ]
    },
    {
      "cell_type": "markdown",
      "metadata": {
        "id": "3EQ9x-XdQtiu"
      },
      "source": [
        "## Hubungan Korelasi antar Feature"
      ]
    },
    {
      "cell_type": "code",
      "execution_count": null,
      "metadata": {
        "colab": {
          "base_uri": "https://localhost:8080/",
          "height": 607
        },
        "id": "3RfijP0TQwwp",
        "outputId": "a012b8a5-9930-4bf5-b63f-3e6f4413b045"
      },
      "outputs": [
        {
          "data": {
            "image/png": "[encoded data removed]",
            "text/plain": [
              "<Figure size 2200x1000 with 2 Axes>"
            ]
          },
          "metadata": {},
          "output_type": "display_data"
        }
      ],
      "source": [
        "corr_matrix = df.corr()  # Correlation Matrix\n",
        "\n",
        "# Mask for Heatmap\n",
        "mask = np.zeros_like(corr_matrix, dtype=np.bool)\n",
        "mask[np.triu_indices_from(corr_matrix)] = True\n",
        "\n",
        "# Correlation Matrix Heatmap including all features\n",
        "fig, ax = plt.subplots(figsize=(22, 10))\n",
        "ax = sns.heatmap(corr_matrix, mask=mask, annot=True, linewidths=0.5, fmt=\".2f\", cmap=\"YlGn\");\n",
        "bottom, top = ax.get_ylim()\n",
        "ax.set_ylim(bottom + 0.5, top - 0.5);\n",
        "ax.set_title(\"Correlation Matrix Heatmap including all features\");"
      ]
    },
    {
      "cell_type": "markdown",
      "metadata": {
        "id": "v1TjKo2zQjh7"
      },
      "source": [
        "# Feature Engineering"
      ]
    },
    {
      "cell_type": "code",
      "execution_count": null,
      "metadata": {
        "id": "Enir9tdOQvhZ"
      },
      "outputs": [],
      "source": [
        "df1 = df.copy()"
      ]
    },
    {
      "cell_type": "code",
      "execution_count": null,
      "metadata": {
        "id": "kukjk3z7QxJQ"
      },
      "outputs": [],
      "source": [
        "df1['CrdScoreGivenAge'] = df1['CreditScore'] / df1['Age']"
      ]
    },
    {
      "cell_type": "code",
      "execution_count": null,
      "metadata": {
        "colab": {
          "base_uri": "https://localhost:8080/",
          "height": 0
        },
        "id": "yWaGKIIYRJBy",
        "outputId": "b415bc7a-ac3a-4a9f-e5b5-5602db941dd4"
      },
      "outputs": [
        {
          "data": {
            "text/html": [
              "<div>\n",
              "<style scoped>\n",
              "    .dataframe tbody tr th:only-of-type {\n",
              "        vertical-align: middle;\n",
              "    }\n",
              "\n",
              "    .dataframe tbody tr th {\n",
              "        vertical-align: top;\n",
              "    }\n",
              "\n",
              "    .dataframe thead th {\n",
              "        text-align: right;\n",
              "    }\n",
              "</style>\n",
              "<table border=\"1\" class=\"dataframe\">\n",
              "  <thead>\n",
              "    <tr style=\"text-align: right;\">\n",
              "      <th></th>\n",
              "      <th>Gender</th>\n",
              "      <th>Age</th>\n",
              "      <th>CreditScore</th>\n",
              "      <th>EstimatedSalary</th>\n",
              "      <th>HasCrCard</th>\n",
              "      <th>Exited</th>\n",
              "      <th>CrdScoreGivenAge</th>\n",
              "    </tr>\n",
              "  </thead>\n",
              "  <tbody>\n",
              "    <tr>\n",
              "      <th>0</th>\n",
              "      <td>0</td>\n",
              "      <td>42</td>\n",
              "      <td>619</td>\n",
              "      <td>101348.88</td>\n",
              "      <td>1</td>\n",
              "      <td>1</td>\n",
              "      <td>14.738095</td>\n",
              "    </tr>\n",
              "    <tr>\n",
              "      <th>1</th>\n",
              "      <td>0</td>\n",
              "      <td>41</td>\n",
              "      <td>608</td>\n",
              "      <td>112542.58</td>\n",
              "      <td>0</td>\n",
              "      <td>0</td>\n",
              "      <td>14.829268</td>\n",
              "    </tr>\n",
              "    <tr>\n",
              "      <th>2</th>\n",
              "      <td>0</td>\n",
              "      <td>42</td>\n",
              "      <td>502</td>\n",
              "      <td>113931.57</td>\n",
              "      <td>1</td>\n",
              "      <td>1</td>\n",
              "      <td>11.952381</td>\n",
              "    </tr>\n",
              "    <tr>\n",
              "      <th>3</th>\n",
              "      <td>0</td>\n",
              "      <td>39</td>\n",
              "      <td>699</td>\n",
              "      <td>93826.63</td>\n",
              "      <td>0</td>\n",
              "      <td>0</td>\n",
              "      <td>17.923077</td>\n",
              "    </tr>\n",
              "    <tr>\n",
              "      <th>4</th>\n",
              "      <td>0</td>\n",
              "      <td>43</td>\n",
              "      <td>850</td>\n",
              "      <td>79084.10</td>\n",
              "      <td>1</td>\n",
              "      <td>0</td>\n",
              "      <td>19.767442</td>\n",
              "    </tr>\n",
              "    <tr>\n",
              "      <th>...</th>\n",
              "      <td>...</td>\n",
              "      <td>...</td>\n",
              "      <td>...</td>\n",
              "      <td>...</td>\n",
              "      <td>...</td>\n",
              "      <td>...</td>\n",
              "      <td>...</td>\n",
              "    </tr>\n",
              "    <tr>\n",
              "      <th>9995</th>\n",
              "      <td>1</td>\n",
              "      <td>39</td>\n",
              "      <td>771</td>\n",
              "      <td>96270.64</td>\n",
              "      <td>1</td>\n",
              "      <td>0</td>\n",
              "      <td>19.769231</td>\n",
              "    </tr>\n",
              "    <tr>\n",
              "      <th>9996</th>\n",
              "      <td>1</td>\n",
              "      <td>35</td>\n",
              "      <td>516</td>\n",
              "      <td>101699.77</td>\n",
              "      <td>1</td>\n",
              "      <td>0</td>\n",
              "      <td>14.742857</td>\n",
              "    </tr>\n",
              "    <tr>\n",
              "      <th>9997</th>\n",
              "      <td>0</td>\n",
              "      <td>36</td>\n",
              "      <td>709</td>\n",
              "      <td>42085.58</td>\n",
              "      <td>0</td>\n",
              "      <td>1</td>\n",
              "      <td>19.694444</td>\n",
              "    </tr>\n",
              "    <tr>\n",
              "      <th>9998</th>\n",
              "      <td>1</td>\n",
              "      <td>42</td>\n",
              "      <td>772</td>\n",
              "      <td>92888.52</td>\n",
              "      <td>1</td>\n",
              "      <td>1</td>\n",
              "      <td>18.380952</td>\n",
              "    </tr>\n",
              "    <tr>\n",
              "      <th>9999</th>\n",
              "      <td>0</td>\n",
              "      <td>28</td>\n",
              "      <td>792</td>\n",
              "      <td>38190.78</td>\n",
              "      <td>1</td>\n",
              "      <td>0</td>\n",
              "      <td>28.285714</td>\n",
              "    </tr>\n",
              "  </tbody>\n",
              "</table>\n",
              "<p>10000 rows × 7 columns</p>\n",
              "</div>"
            ],
            "text/plain": [
              "      Gender  Age  CreditScore  EstimatedSalary  HasCrCard  Exited  \\\n",
              "0          0   42          619        101348.88          1       1   \n",
              "1          0   41          608        112542.58          0       0   \n",
              "2          0   42          502        113931.57          1       1   \n",
              "3          0   39          699         93826.63          0       0   \n",
              "4          0   43          850         79084.10          1       0   \n",
              "...      ...  ...          ...              ...        ...     ...   \n",
              "9995       1   39          771         96270.64          1       0   \n",
              "9996       1   35          516        101699.77          1       0   \n",
              "9997       0   36          709         42085.58          0       1   \n",
              "9998       1   42          772         92888.52          1       1   \n",
              "9999       0   28          792         38190.78          1       0   \n",
              "\n",
              "      CrdScoreGivenAge  \n",
              "0            14.738095  \n",
              "1            14.829268  \n",
              "2            11.952381  \n",
              "3            17.923077  \n",
              "4            19.767442  \n",
              "...                ...  \n",
              "9995         19.769231  \n",
              "9996         14.742857  \n",
              "9997         19.694444  \n",
              "9998         18.380952  \n",
              "9999         28.285714  \n",
              "\n",
              "[10000 rows x 7 columns]"
            ]
          },
          "execution_count": 23,
          "metadata": {},
          "output_type": "execute_result"
        }
      ],
      "source": [
        "df1"
      ]
    },
    {
      "cell_type": "code",
      "execution_count": null,
      "metadata": {
        "colab": {
          "base_uri": "https://localhost:8080/",
          "height": 0
        },
        "id": "CAy8Q8CmRLqo",
        "outputId": "11857648-68b4-4700-f5fc-0b5d8794822d"
      },
      "outputs": [
        {
          "data": {
            "text/plain": [
              "<AxesSubplot: >"
            ]
          },
          "execution_count": 24,
          "metadata": {},
          "output_type": "execute_result"
        },
        {
          "data": {
            "image/png": "[encoded data removed]",
            "text/plain": [
              "<Figure size 1100x900 with 2 Axes>"
            ]
          },
          "metadata": {},
          "output_type": "display_data"
        }
      ],
      "source": [
        "cormat = df1.corr()\n",
        "plt.figure(figsize=(11,9))\n",
        "sns.heatmap(cormat, annot=True, cmap='viridis')"
      ]
    },
    {
      "cell_type": "markdown",
      "metadata": {
        "id": "-DF5vbblROHL"
      },
      "source": [
        "# Train-Test Split"
      ]
    },
    {
      "cell_type": "code",
      "execution_count": null,
      "metadata": {
        "id": "fnAcdhhGRQpb"
      },
      "outputs": [],
      "source": [
        "X1 = df1.drop('Exited', axis=1)\n",
        "y1 = df1['Exited']"
      ]
    },
    {
      "cell_type": "code",
      "execution_count": null,
      "metadata": {
        "id": "M5QFoOssRXLt"
      },
      "outputs": [],
      "source": [
        "from sklearn.model_selection import train_test_split"
      ]
    },
    {
      "cell_type": "code",
      "execution_count": null,
      "metadata": {
        "id": "CLrZZVSCRcaW"
      },
      "outputs": [],
      "source": [
        "X1_train, X1_test, y1_train, y1_test = train_test_split(X1, y1, test_size=0.35, random_state=123, stratify=y1)"
      ]
    },
    {
      "cell_type": "code",
      "execution_count": null,
      "metadata": {
        "colab": {
          "base_uri": "https://localhost:8080/"
        },
        "id": "NRbN3QQfReCe",
        "outputId": "2dceb14c-6e3c-4b1a-8414-18e702a9040d"
      },
      "outputs": [
        {
          "data": {
            "text/plain": [
              "0    7963\n",
              "1    2037\n",
              "Name: Exited, dtype: int64"
            ]
          },
          "execution_count": 28,
          "metadata": {},
          "output_type": "execute_result"
        }
      ],
      "source": [
        "y1.value_counts()"
      ]
    },
    {
      "cell_type": "markdown",
      "metadata": {
        "id": "dhcZTwQ2RhsE"
      },
      "source": [
        "# Feature Scaling"
      ]
    },
    {
      "cell_type": "code",
      "execution_count": null,
      "metadata": {
        "id": "zv9b3qpkRmmE"
      },
      "outputs": [],
      "source": [
        "from sklearn.preprocessing import StandardScaler\n",
        "ss = StandardScaler()"
      ]
    },
    {
      "cell_type": "code",
      "execution_count": null,
      "metadata": {
        "id": "dkyJ99JZU547"
      },
      "outputs": [],
      "source": [
        "X1_train = ss.fit_transform(X1_train)\n",
        "X1_test = ss.fit_transform(X1_test)"
      ]
    },
    {
      "cell_type": "code",
      "execution_count": null,
      "metadata": {
        "colab": {
          "base_uri": "https://localhost:8080/"
        },
        "id": "JNdjI63aU8lk",
        "outputId": "78f0bd47-c702-4d2c-d8ab-b20609216e3a"
      },
      "outputs": [
        {
          "data": {
            "text/plain": [
              "array([[ 9.09605753e-01, -5.80168368e-01, -1.43598345e+00,\n",
              "        -9.44650431e-02,  6.55373150e-01, -4.33523045e-01],\n",
              "       [ 9.09605753e-01,  1.71581233e-03,  3.68717473e-01,\n",
              "         5.41934186e-02,  6.55373150e-01, -4.03564064e-02],\n",
              "       [ 9.09605753e-01, -1.74393673e+00, -8.34416478e-01,\n",
              "         8.34314114e-01,  6.55373150e-01,  1.77010339e+00],\n",
              "       ...,\n",
              "       [ 9.09605753e-01,  2.03831044e+00, -2.29684654e+00,\n",
              "         1.10562438e+00,  6.55373150e-01, -2.01884603e+00],\n",
              "       [ 9.09605753e-01, -3.86206975e-01,  9.08053382e-01,\n",
              "        -1.46841664e+00,  6.55373150e-01,  6.22183023e-01],\n",
              "       [ 9.09605753e-01,  6.80580690e-01,  1.10511843e+00,\n",
              "        -1.08920967e+00,  6.55373150e-01, -2.55119121e-01]])"
            ]
          },
          "execution_count": 31,
          "metadata": {},
          "output_type": "execute_result"
        }
      ],
      "source": [
        "X1_train"
      ]
    },
    {
      "cell_type": "markdown",
      "metadata": {
        "id": "GlsLBaWrVAwS"
      },
      "source": [
        "# Membangun Model"
      ]
    },
    {
      "cell_type": "markdown",
      "metadata": {
        "id": "tI6FojtuWARz"
      },
      "source": [
        "## KNN"
      ]
    },
    {
      "cell_type": "code",
      "execution_count": null,
      "metadata": {
        "id": "XBBc86qhV-Om"
      },
      "outputs": [],
      "source": [
        "from sklearn.neighbors import KNeighborsClassifier\n",
        "from sklearn.model_selection import GridSearchCV"
      ]
    },
    {
      "cell_type": "code",
      "execution_count": null,
      "metadata": {
        "id": "OWevy6VpWFaV"
      },
      "outputs": [],
      "source": [
        "knn = KNeighborsClassifier()\n",
        "parameters = {'n_neighbors': np.arange(1,100)}"
      ]
    },
    {
      "cell_type": "code",
      "execution_count": null,
      "metadata": {
        "id": "1uAKiZroWGm8"
      },
      "outputs": [],
      "source": [
        "knnclassifier = GridSearchCV(knn, parameters, cv=10)"
      ]
    },
    {
      "cell_type": "code",
      "execution_count": null,
      "metadata": {
        "colab": {
          "base_uri": "https://localhost:8080/"
        },
        "id": "2g1d7JtFWJvg",
        "outputId": "f228b2e9-62d7-4eeb-dbd6-1741f072a207"
      },
      "outputs": [
        {
          "data": {
            "text/html": [
              "<style>#sk-container-id-1 {color: black;background-color: white;}#sk-container-id-1 pre{padding: 0;}#sk-container-id-1 div.sk-toggleable {background-color: white;}#sk-container-id-1 label.sk-toggleable__label {cursor: pointer;display: block;width: 100%;margin-bottom: 0;padding: 0.3em;box-sizing: border-box;text-align: center;}#sk-container-id-1 label.sk-toggleable__label-arrow:before {content: \"▸\";float: left;margin-right: 0.25em;color: #696969;}#sk-container-id-1 label.sk-toggleable__label-arrow:hover:before {color: black;}#sk-container-id-1 div.sk-estimator:hover label.sk-toggleable__label-arrow:before {color: black;}#sk-container-id-1 div.sk-toggleable__content {max-height: 0;max-width: 0;overflow: hidden;text-align: left;background-color: #f0f8ff;}#sk-container-id-1 div.sk-toggleable__content pre {margin: 0.2em;color: black;border-radius: 0.25em;background-color: #f0f8ff;}#sk-container-id-1 input.sk-toggleable__control:checked~div.sk-toggleable__content {max-height: 200px;max-width: 100%;overflow: auto;}#sk-container-id-1 input.sk-toggleable__control:checked~label.sk-toggleable__label-arrow:before {content: \"▾\";}#sk-container-id-1 div.sk-estimator input.sk-toggleable__control:checked~label.sk-toggleable__label {background-color: #d4ebff;}#sk-container-id-1 div.sk-label input.sk-toggleable__control:checked~label.sk-toggleable__label {background-color: #d4ebff;}#sk-container-id-1 input.sk-hidden--visually {border: 0;clip: rect(1px 1px 1px 1px);clip: rect(1px, 1px, 1px, 1px);height: 1px;margin: -1px;overflow: hidden;padding: 0;position: absolute;width: 1px;}#sk-container-id-1 div.sk-estimator {font-family: monospace;background-color: #f0f8ff;border: 1px dotted black;border-radius: 0.25em;box-sizing: border-box;margin-bottom: 0.5em;}#sk-container-id-1 div.sk-estimator:hover {background-color: #d4ebff;}#sk-container-id-1 div.sk-parallel-item::after {content: \"\";width: 100%;border-bottom: 1px solid gray;flex-grow: 1;}#sk-container-id-1 div.sk-label:hover label.sk-toggleable__label {background-color: #d4ebff;}#sk-container-id-1 div.sk-serial::before {content: \"\";position: absolute;border-left: 1px solid gray;box-sizing: border-box;top: 0;bottom: 0;left: 50%;z-index: 0;}#sk-container-id-1 div.sk-serial {display: flex;flex-direction: column;align-items: center;background-color: white;padding-right: 0.2em;padding-left: 0.2em;position: relative;}#sk-container-id-1 div.sk-item {position: relative;z-index: 1;}#sk-container-id-1 div.sk-parallel {display: flex;align-items: stretch;justify-content: center;background-color: white;position: relative;}#sk-container-id-1 div.sk-item::before, #sk-container-id-1 div.sk-parallel-item::before {content: \"\";position: absolute;border-left: 1px solid gray;box-sizing: border-box;top: 0;bottom: 0;left: 50%;z-index: -1;}#sk-container-id-1 div.sk-parallel-item {display: flex;flex-direction: column;z-index: 1;position: relative;background-color: white;}#sk-container-id-1 div.sk-parallel-item:first-child::after {align-self: flex-end;width: 50%;}#sk-container-id-1 div.sk-parallel-item:last-child::after {align-self: flex-start;width: 50%;}#sk-container-id-1 div.sk-parallel-item:only-child::after {width: 0;}#sk-container-id-1 div.sk-dashed-wrapped {border: 1px dashed gray;margin: 0 0.4em 0.5em 0.4em;box-sizing: border-box;padding-bottom: 0.4em;background-color: white;}#sk-container-id-1 div.sk-label label {font-family: monospace;font-weight: bold;display: inline-block;line-height: 1.2em;}#sk-container-id-1 div.sk-label-container {text-align: center;}#sk-container-id-1 div.sk-container {/* jupyter's `normalize.less` sets `[hidden] { display: none; }` but bootstrap.min.css set `[hidden] { display: none !important; }` so we also need the `!important` here to be able to override the default hidden behavior on the sphinx rendered scikit-learn.org. See: https://github.com/scikit-learn/scikit-learn/issues/21755 */display: inline-block !important;position: relative;}#sk-container-id-1 div.sk-text-repr-fallback {display: none;}</style><div id=\"sk-container-id-1\" class=\"sk-top-container\"><div class=\"sk-text-repr-fallback\"><pre>GridSearchCV(cv=10, estimator=KNeighborsClassifier(),\n",
              "             param_grid={&#x27;n_neighbors&#x27;: array([ 1,  2,  3,  4,  5,  6,  7,  8,  9, 10, 11, 12, 13, 14, 15, 16, 17,\n",
              "       18, 19, 20, 21, 22, 23, 24, 25, 26, 27, 28, 29, 30, 31, 32, 33, 34,\n",
              "       35, 36, 37, 38, 39, 40, 41, 42, 43, 44, 45, 46, 47, 48, 49, 50, 51,\n",
              "       52, 53, 54, 55, 56, 57, 58, 59, 60, 61, 62, 63, 64, 65, 66, 67, 68,\n",
              "       69, 70, 71, 72, 73, 74, 75, 76, 77, 78, 79, 80, 81, 82, 83, 84, 85,\n",
              "       86, 87, 88, 89, 90, 91, 92, 93, 94, 95, 96, 97, 98, 99])})</pre><b>In a Jupyter environment, please rerun this cell to show the HTML representation or trust the notebook. <br />On GitHub, the HTML representation is unable to render, please try loading this page with nbviewer.org.</b></div><div class=\"sk-container\" hidden><div class=\"sk-item sk-dashed-wrapped\"><div class=\"sk-label-container\"><div class=\"sk-label sk-toggleable\"><input class=\"sk-toggleable__control sk-hidden--visually\" id=\"sk-estimator-id-1\" type=\"checkbox\" ><label for=\"sk-estimator-id-1\" class=\"sk-toggleable__label sk-toggleable__label-arrow\">GridSearchCV</label><div class=\"sk-toggleable__content\"><pre>GridSearchCV(cv=10, estimator=KNeighborsClassifier(),\n",
              "             param_grid={&#x27;n_neighbors&#x27;: array([ 1,  2,  3,  4,  5,  6,  7,  8,  9, 10, 11, 12, 13, 14, 15, 16, 17,\n",
              "       18, 19, 20, 21, 22, 23, 24, 25, 26, 27, 28, 29, 30, 31, 32, 33, 34,\n",
              "       35, 36, 37, 38, 39, 40, 41, 42, 43, 44, 45, 46, 47, 48, 49, 50, 51,\n",
              "       52, 53, 54, 55, 56, 57, 58, 59, 60, 61, 62, 63, 64, 65, 66, 67, 68,\n",
              "       69, 70, 71, 72, 73, 74, 75, 76, 77, 78, 79, 80, 81, 82, 83, 84, 85,\n",
              "       86, 87, 88, 89, 90, 91, 92, 93, 94, 95, 96, 97, 98, 99])})</pre></div></div></div><div class=\"sk-parallel\"><div class=\"sk-parallel-item\"><div class=\"sk-item\"><div class=\"sk-label-container\"><div class=\"sk-label sk-toggleable\"><input class=\"sk-toggleable__control sk-hidden--visually\" id=\"sk-estimator-id-2\" type=\"checkbox\" ><label for=\"sk-estimator-id-2\" class=\"sk-toggleable__label sk-toggleable__label-arrow\">estimator: KNeighborsClassifier</label><div class=\"sk-toggleable__content\"><pre>KNeighborsClassifier()</pre></div></div></div><div class=\"sk-serial\"><div class=\"sk-item\"><div class=\"sk-estimator sk-toggleable\"><input class=\"sk-toggleable__control sk-hidden--visually\" id=\"sk-estimator-id-3\" type=\"checkbox\" ><label for=\"sk-estimator-id-3\" class=\"sk-toggleable__label sk-toggleable__label-arrow\">KNeighborsClassifier</label><div class=\"sk-toggleable__content\"><pre>KNeighborsClassifier()</pre></div></div></div></div></div></div></div></div></div></div>"
            ],
            "text/plain": [
              "GridSearchCV(cv=10, estimator=KNeighborsClassifier(),\n",
              "             param_grid={'n_neighbors': array([ 1,  2,  3,  4,  5,  6,  7,  8,  9, 10, 11, 12, 13, 14, 15, 16, 17,\n",
              "       18, 19, 20, 21, 22, 23, 24, 25, 26, 27, 28, 29, 30, 31, 32, 33, 34,\n",
              "       35, 36, 37, 38, 39, 40, 41, 42, 43, 44, 45, 46, 47, 48, 49, 50, 51,\n",
              "       52, 53, 54, 55, 56, 57, 58, 59, 60, 61, 62, 63, 64, 65, 66, 67, 68,\n",
              "       69, 70, 71, 72, 73, 74, 75, 76, 77, 78, 79, 80, 81, 82, 83, 84, 85,\n",
              "       86, 87, 88, 89, 90, 91, 92, 93, 94, 95, 96, 97, 98, 99])})"
            ]
          },
          "execution_count": 35,
          "metadata": {},
          "output_type": "execute_result"
        }
      ],
      "source": [
        "knnclassifier.fit(X1_train, y1_train)"
      ]
    },
    {
      "cell_type": "code",
      "execution_count": null,
      "metadata": {
        "colab": {
          "base_uri": "https://localhost:8080/"
        },
        "id": "hcA_vB6uWP9C",
        "outputId": "bf47eebe-ce09-4682-d758-84e76bfd5d29"
      },
      "outputs": [
        {
          "name": "stdout",
          "output_type": "stream",
          "text": [
            "0.8073846153846154\n",
            "{'n_neighbors': 31}\n"
          ]
        }
      ],
      "source": [
        "print(knnclassifier.best_score_)\n",
        "print(knnclassifier.best_params_)"
      ]
    },
    {
      "cell_type": "code",
      "execution_count": null,
      "metadata": {
        "colab": {
          "base_uri": "https://localhost:8080/",
          "height": 0
        },
        "id": "g9amySZGWVwl",
        "outputId": "43e5868d-66c9-4529-83b5-34dc49b843fe"
      },
      "outputs": [
        {
          "data": {
            "text/html": [
              "<div>\n",
              "<style scoped>\n",
              "    .dataframe tbody tr th:only-of-type {\n",
              "        vertical-align: middle;\n",
              "    }\n",
              "\n",
              "    .dataframe tbody tr th {\n",
              "        vertical-align: top;\n",
              "    }\n",
              "\n",
              "    .dataframe thead th {\n",
              "        text-align: right;\n",
              "    }\n",
              "</style>\n",
              "<table border=\"1\" class=\"dataframe\">\n",
              "  <thead>\n",
              "    <tr style=\"text-align: right;\">\n",
              "      <th></th>\n",
              "      <th>mean_fit_time</th>\n",
              "      <th>std_fit_time</th>\n",
              "      <th>mean_score_time</th>\n",
              "      <th>std_score_time</th>\n",
              "      <th>param_n_neighbors</th>\n",
              "      <th>params</th>\n",
              "      <th>split0_test_score</th>\n",
              "      <th>split1_test_score</th>\n",
              "      <th>split2_test_score</th>\n",
              "      <th>split3_test_score</th>\n",
              "      <th>split4_test_score</th>\n",
              "      <th>split5_test_score</th>\n",
              "      <th>split6_test_score</th>\n",
              "      <th>split7_test_score</th>\n",
              "      <th>split8_test_score</th>\n",
              "      <th>split9_test_score</th>\n",
              "      <th>mean_test_score</th>\n",
              "      <th>std_test_score</th>\n",
              "      <th>rank_test_score</th>\n",
              "    </tr>\n",
              "  </thead>\n",
              "  <tbody>\n",
              "    <tr>\n",
              "      <th>30</th>\n",
              "      <td>0.006404</td>\n",
              "      <td>0.000662</td>\n",
              "      <td>0.033095</td>\n",
              "      <td>0.002428</td>\n",
              "      <td>31</td>\n",
              "      <td>{'n_neighbors': 31}</td>\n",
              "      <td>0.812308</td>\n",
              "      <td>0.809231</td>\n",
              "      <td>0.816923</td>\n",
              "      <td>0.809231</td>\n",
              "      <td>0.820000</td>\n",
              "      <td>0.807692</td>\n",
              "      <td>0.801538</td>\n",
              "      <td>0.798462</td>\n",
              "      <td>0.806154</td>\n",
              "      <td>0.792308</td>\n",
              "      <td>0.807385</td>\n",
              "      <td>0.007899</td>\n",
              "      <td>1</td>\n",
              "    </tr>\n",
              "    <tr>\n",
              "      <th>19</th>\n",
              "      <td>0.007295</td>\n",
              "      <td>0.001007</td>\n",
              "      <td>0.034202</td>\n",
              "      <td>0.005717</td>\n",
              "      <td>20</td>\n",
              "      <td>{'n_neighbors': 20}</td>\n",
              "      <td>0.815385</td>\n",
              "      <td>0.804615</td>\n",
              "      <td>0.826154</td>\n",
              "      <td>0.806154</td>\n",
              "      <td>0.812308</td>\n",
              "      <td>0.807692</td>\n",
              "      <td>0.803077</td>\n",
              "      <td>0.786154</td>\n",
              "      <td>0.804615</td>\n",
              "      <td>0.800000</td>\n",
              "      <td>0.806615</td>\n",
              "      <td>0.009876</td>\n",
              "      <td>2</td>\n",
              "    </tr>\n",
              "    <tr>\n",
              "      <th>29</th>\n",
              "      <td>0.006495</td>\n",
              "      <td>0.000504</td>\n",
              "      <td>0.032504</td>\n",
              "      <td>0.001294</td>\n",
              "      <td>30</td>\n",
              "      <td>{'n_neighbors': 30}</td>\n",
              "      <td>0.813846</td>\n",
              "      <td>0.804615</td>\n",
              "      <td>0.812308</td>\n",
              "      <td>0.810769</td>\n",
              "      <td>0.823077</td>\n",
              "      <td>0.806154</td>\n",
              "      <td>0.800000</td>\n",
              "      <td>0.793846</td>\n",
              "      <td>0.809231</td>\n",
              "      <td>0.792308</td>\n",
              "      <td>0.806615</td>\n",
              "      <td>0.008919</td>\n",
              "      <td>2</td>\n",
              "    </tr>\n",
              "    <tr>\n",
              "      <th>27</th>\n",
              "      <td>0.006999</td>\n",
              "      <td>0.000632</td>\n",
              "      <td>0.032205</td>\n",
              "      <td>0.000749</td>\n",
              "      <td>28</td>\n",
              "      <td>{'n_neighbors': 28}</td>\n",
              "      <td>0.810769</td>\n",
              "      <td>0.809231</td>\n",
              "      <td>0.812308</td>\n",
              "      <td>0.810769</td>\n",
              "      <td>0.823077</td>\n",
              "      <td>0.806154</td>\n",
              "      <td>0.795385</td>\n",
              "      <td>0.796923</td>\n",
              "      <td>0.807692</td>\n",
              "      <td>0.792308</td>\n",
              "      <td>0.806462</td>\n",
              "      <td>0.008779</td>\n",
              "      <td>4</td>\n",
              "    </tr>\n",
              "    <tr>\n",
              "      <th>23</th>\n",
              "      <td>0.006800</td>\n",
              "      <td>0.000987</td>\n",
              "      <td>0.031001</td>\n",
              "      <td>0.000877</td>\n",
              "      <td>24</td>\n",
              "      <td>{'n_neighbors': 24}</td>\n",
              "      <td>0.818462</td>\n",
              "      <td>0.801538</td>\n",
              "      <td>0.815385</td>\n",
              "      <td>0.800000</td>\n",
              "      <td>0.823077</td>\n",
              "      <td>0.809231</td>\n",
              "      <td>0.800000</td>\n",
              "      <td>0.792308</td>\n",
              "      <td>0.806154</td>\n",
              "      <td>0.798462</td>\n",
              "      <td>0.806462</td>\n",
              "      <td>0.009378</td>\n",
              "      <td>4</td>\n",
              "    </tr>\n",
              "  </tbody>\n",
              "</table>\n",
              "</div>"
            ],
            "text/plain": [
              "    mean_fit_time  std_fit_time  mean_score_time  std_score_time  \\\n",
              "30       0.006404      0.000662         0.033095        0.002428   \n",
              "19       0.007295      0.001007         0.034202        0.005717   \n",
              "29       0.006495      0.000504         0.032504        0.001294   \n",
              "27       0.006999      0.000632         0.032205        0.000749   \n",
              "23       0.006800      0.000987         0.031001        0.000877   \n",
              "\n",
              "   param_n_neighbors               params  split0_test_score  \\\n",
              "30                31  {'n_neighbors': 31}           0.812308   \n",
              "19                20  {'n_neighbors': 20}           0.815385   \n",
              "29                30  {'n_neighbors': 30}           0.813846   \n",
              "27                28  {'n_neighbors': 28}           0.810769   \n",
              "23                24  {'n_neighbors': 24}           0.818462   \n",
              "\n",
              "    split1_test_score  split2_test_score  split3_test_score  \\\n",
              "30           0.809231           0.816923           0.809231   \n",
              "19           0.804615           0.826154           0.806154   \n",
              "29           0.804615           0.812308           0.810769   \n",
              "27           0.809231           0.812308           0.810769   \n",
              "23           0.801538           0.815385           0.800000   \n",
              "\n",
              "    split4_test_score  split5_test_score  split6_test_score  \\\n",
              "30           0.820000           0.807692           0.801538   \n",
              "19           0.812308           0.807692           0.803077   \n",
              "29           0.823077           0.806154           0.800000   \n",
              "27           0.823077           0.806154           0.795385   \n",
              "23           0.823077           0.809231           0.800000   \n",
              "\n",
              "    split7_test_score  split8_test_score  split9_test_score  mean_test_score  \\\n",
              "30           0.798462           0.806154           0.792308         0.807385   \n",
              "19           0.786154           0.804615           0.800000         0.806615   \n",
              "29           0.793846           0.809231           0.792308         0.806615   \n",
              "27           0.796923           0.807692           0.792308         0.806462   \n",
              "23           0.792308           0.806154           0.798462         0.806462   \n",
              "\n",
              "    std_test_score  rank_test_score  \n",
              "30        0.007899                1  \n",
              "19        0.009876                2  \n",
              "29        0.008919                2  \n",
              "27        0.008779                4  \n",
              "23        0.009378                4  "
            ]
          },
          "execution_count": 37,
          "metadata": {},
          "output_type": "execute_result"
        }
      ],
      "source": [
        "rel = pd.DataFrame(knnclassifier.cv_results_)\n",
        "rel.sort_values(by=['rank_test_score']).head()"
      ]
    },
    {
      "cell_type": "code",
      "execution_count": null,
      "metadata": {
        "colab": {
          "base_uri": "https://localhost:8080/",
          "height": 0
        },
        "id": "MKKindDdWYqv",
        "outputId": "324147ae-0ece-4a56-d52a-47009eb5e394"
      },
      "outputs": [
        {
          "data": {
            "text/plain": [
              "[<matplotlib.lines.Line2D at 0x1f123aaf520>]"
            ]
          },
          "execution_count": 38,
          "metadata": {},
          "output_type": "execute_result"
        },
        {
          "data": {
            "image/png": "[encoded data removed]",
            "text/plain": [
              "<Figure size 1200x700 with 1 Axes>"
            ]
          },
          "metadata": {},
          "output_type": "display_data"
        }
      ],
      "source": [
        "plt.plot(rel['mean_test_score'])"
      ]
    },
    {
      "cell_type": "code",
      "execution_count": null,
      "metadata": {
        "id": "lKTlIFoDWa85"
      },
      "outputs": [],
      "source": [
        "# knnclassifier.fit(X1_test, y1_test)"
      ]
    },
    {
      "cell_type": "code",
      "execution_count": null,
      "metadata": {
        "id": "9y2YATFgWcmC"
      },
      "outputs": [],
      "source": [
        "# print(knnclassifier.best_score_)\n",
        "# print(knnclassifier.best_params_)"
      ]
    },
    {
      "cell_type": "code",
      "execution_count": null,
      "metadata": {
        "id": "WdLqw4ZAWhLp"
      },
      "outputs": [],
      "source": [
        "# rel1 = pd.DataFrame(knnclassifier.cv_results_)\n",
        "# rel1.sort_values(by=['rank_test_score']).head()"
      ]
    },
    {
      "cell_type": "code",
      "execution_count": null,
      "metadata": {
        "id": "madjvlWUWkn_"
      },
      "outputs": [],
      "source": [
        "# plt.plot(rel1['mean_test_score'])"
      ]
    },
    {
      "cell_type": "code",
      "execution_count": null,
      "metadata": {
        "id": "C9iGAhFlWyzi"
      },
      "outputs": [],
      "source": [
        "y1_pred_knn = knnclassifier.predict(X1_test)"
      ]
    },
    {
      "cell_type": "code",
      "execution_count": null,
      "metadata": {
        "colab": {
          "base_uri": "https://localhost:8080/"
        },
        "id": "mtX29v5mW0p0",
        "outputId": "09e70ac3-2371-49de-b0b2-9a6ec0b81c64"
      },
      "outputs": [
        {
          "data": {
            "text/plain": [
              "array([0, 0, 0, ..., 0, 1, 0], dtype=int64)"
            ]
          },
          "execution_count": 40,
          "metadata": {},
          "output_type": "execute_result"
        }
      ],
      "source": [
        "y1_pred_knn"
      ]
    },
    {
      "cell_type": "markdown",
      "metadata": {
        "id": "C3ADUZiZW8C0"
      },
      "source": [
        "### KNN Evaluation"
      ]
    },
    {
      "cell_type": "code",
      "execution_count": null,
      "metadata": {
        "id": "fR64lP7VXHX_"
      },
      "outputs": [],
      "source": [
        "from sklearn.metrics import accuracy_score, precision_score, recall_score, f1_score, roc_auc_score"
      ]
    },
    {
      "cell_type": "code",
      "execution_count": null,
      "metadata": {
        "colab": {
          "base_uri": "https://localhost:8080/"
        },
        "id": "y64ZFA2FXJo5",
        "outputId": "8e63809e-32d0-4c45-8729-bdb9605ad810"
      },
      "outputs": [
        {
          "name": "stdout",
          "output_type": "stream",
          "text": [
            "KNN Score\n",
            "Accuracy: 0.81\n",
            "Precision: 0.57\n",
            "Recall: 0.18\n",
            "f1: 0.27\n",
            "ROC AUC: 0.72\n"
          ]
        }
      ],
      "source": [
        "print('KNN Score')\n",
        "print('Accuracy: {:.2f}'.format(accuracy_score(y1_test, y1_pred_knn)))\n",
        "print('Precision: {:.2f}'.format(precision_score(y1_test, y1_pred_knn)))\n",
        "print('Recall: {:.2f}'.format(recall_score(y1_test, y1_pred_knn)))\n",
        "print('f1: {:.2f}'.format(f1_score(y1_test, y1_pred_knn)))\n",
        "\n",
        "y1_predProba_knn = knnclassifier.predict_proba(X1_test)[::,-1]\n",
        "print('ROC AUC: {:.2f}'.format(roc_auc_score(y1_test, y1_predProba_knn)))"
      ]
    },
    {
      "cell_type": "markdown",
      "metadata": {
        "id": "5QYsjhikXOdC"
      },
      "source": [
        "## Logistics Regression"
      ]
    },
    {
      "cell_type": "code",
      "execution_count": null,
      "metadata": {
        "id": "wdybWzsDXSvm"
      },
      "outputs": [],
      "source": [
        "from sklearn.linear_model import LogisticRegression"
      ]
    },
    {
      "cell_type": "code",
      "execution_count": null,
      "metadata": {
        "id": "1Xa-sKzaXVCR"
      },
      "outputs": [],
      "source": [
        "log1 = LogisticRegression()\n",
        "log1.fit(X1_train, y1_train)\n",
        "y1_pred_log = log1.predict(X1_test)"
      ]
    },
    {
      "cell_type": "markdown",
      "metadata": {
        "id": "sRor9gejo9Jr"
      },
      "source": [
        "### Logistic Regression Evaluation"
      ]
    },
    {
      "cell_type": "code",
      "execution_count": null,
      "metadata": {
        "colab": {
          "base_uri": "https://localhost:8080/"
        },
        "id": "P9ouQeyqo_aX",
        "outputId": "081e2f70-e2ae-40a6-9d38-ce55871f1291"
      },
      "outputs": [
        {
          "name": "stdout",
          "output_type": "stream",
          "text": [
            "Logistic Regression Score\n",
            "Accuracy: 0.79\n",
            "Precision: 0.34\n",
            "Recall: 0.05\n",
            "f1: 0.08\n",
            "ROC AUC: 0.72\n"
          ]
        }
      ],
      "source": [
        "print('Logistic Regression Score')\n",
        "print('Accuracy: {:.2f}'.format(accuracy_score(y1_test, y1_pred_log)))\n",
        "print('Precision: {:.2f}'.format(precision_score(y1_test, y1_pred_log)))\n",
        "print('Recall: {:.2f}'.format(recall_score(y1_test, y1_pred_log)))\n",
        "print('f1: {:.2f}'.format(f1_score(y1_test, y1_pred_log)))\n",
        "\n",
        "y1_predProba_log = log1.predict_proba(X1_test)[::,-1]\n",
        "print('ROC AUC: {:.2f}'.format(roc_auc_score(y1_test, y1_predProba_log)))"
      ]
    },
    {
      "cell_type": "markdown",
      "metadata": {
        "id": "kRJxotYRpNJG"
      },
      "source": [
        "## SVC"
      ]
    },
    {
      "cell_type": "code",
      "execution_count": null,
      "metadata": {
        "id": "HqOe_ILhpPq_"
      },
      "outputs": [],
      "source": [
        "from sklearn.svm import SVC"
      ]
    },
    {
      "cell_type": "code",
      "execution_count": null,
      "metadata": {
        "id": "V8X6bwjCpRqQ"
      },
      "outputs": [],
      "source": [
        "svc1 = SVC(probability=True)\n",
        "svc1.fit(X1_train, y1_train)\n",
        "y1_pred_svc = svc1.predict(X1_test)"
      ]
    },
    {
      "cell_type": "markdown",
      "metadata": {
        "id": "EC4f0164qGcw"
      },
      "source": [
        "### SVC Evaluation"
      ]
    },
    {
      "cell_type": "code",
      "execution_count": null,
      "metadata": {
        "colab": {
          "base_uri": "https://localhost:8080/"
        },
        "id": "lZZOSCoRqEE1",
        "outputId": "4645cae0-bba0-4d28-d138-4a93cb89bcc8"
      },
      "outputs": [
        {
          "name": "stdout",
          "output_type": "stream",
          "text": [
            "SVC Score\n",
            "Accuracy: 0.80\n",
            "Precision: 0.59\n",
            "Recall: 0.13\n",
            "f1: 0.22\n",
            "ROC AUC: 0.55\n"
          ]
        }
      ],
      "source": [
        "print('SVC Score')\n",
        "print('Accuracy: {:.2f}'.format(accuracy_score(y1_test, y1_pred_svc)))\n",
        "print('Precision: {:.2f}'.format(precision_score(y1_test, y1_pred_svc)))\n",
        "print('Recall: {:.2f}'.format(recall_score(y1_test, y1_pred_svc)))\n",
        "print('f1: {:.2f}'.format(f1_score(y1_test, y1_pred_svc)))\n",
        "\n",
        "y1_predProba_svc = svc1.predict_proba(X1_test)[::,-1]\n",
        "print('ROC AUC: {:.2f}'.format(roc_auc_score(y1_test, y1_pred_svc)))"
      ]
    },
    {
      "cell_type": "markdown",
      "metadata": {
        "id": "qpGRh7HEqLmT"
      },
      "source": [
        "## Decision Tree"
      ]
    },
    {
      "cell_type": "code",
      "execution_count": null,
      "metadata": {
        "id": "fG5BcxCqqO2M"
      },
      "outputs": [],
      "source": [
        "from sklearn.tree import DecisionTreeClassifier"
      ]
    },
    {
      "cell_type": "code",
      "execution_count": null,
      "metadata": {
        "id": "jmK6RNNsqQUf"
      },
      "outputs": [],
      "source": [
        "dectree1 = DecisionTreeClassifier()\n",
        "dectree1.fit(X1_train, y1_train)\n",
        "y1_pred_dectree = dectree1.predict(X1_test)"
      ]
    },
    {
      "cell_type": "code",
      "execution_count": null,
      "metadata": {
        "colab": {
          "base_uri": "https://localhost:8080/"
        },
        "id": "s_GcoZZ4qTH3",
        "outputId": "b4363f0b-c12a-4842-c6da-f2bd2f36ced7"
      },
      "outputs": [
        {
          "data": {
            "text/plain": [
              "array([1., 0., 1., ..., 0., 0., 0.])"
            ]
          },
          "execution_count": 51,
          "metadata": {},
          "output_type": "execute_result"
        }
      ],
      "source": [
        "y1_predProba_dectree = dectree1.predict_proba(X1_test)[::,-1]\n",
        "y1_predProba_dectree"
      ]
    },
    {
      "cell_type": "markdown",
      "metadata": {
        "id": "_cfljG8qyB3w"
      },
      "source": [
        "### Decision Tree Evaluation"
      ]
    },
    {
      "cell_type": "code",
      "execution_count": null,
      "metadata": {
        "colab": {
          "base_uri": "https://localhost:8080/"
        },
        "id": "bbovnrmiyBZ4",
        "outputId": "bb949dfa-cce3-4ada-9b15-5a532e2435e4"
      },
      "outputs": [
        {
          "name": "stdout",
          "output_type": "stream",
          "text": [
            "Decision Tree Score\n",
            "Accuracy: 0.72\n",
            "Precision: 0.32\n",
            "Recall: 0.32\n",
            "f1: 0.32\n",
            "ROC AUC: 0.57\n"
          ]
        }
      ],
      "source": [
        "print('Decision Tree Score')\n",
        "print('Accuracy: {:.2f}'.format(accuracy_score(y1_test, y1_pred_dectree)))\n",
        "print('Precision: {:.2f}'.format(precision_score(y1_test, y1_pred_dectree)))\n",
        "print('Recall: {:.2f}'.format(recall_score(y1_test, y1_pred_dectree)))\n",
        "print('f1: {:.2f}'.format(f1_score(y1_test, y1_pred_dectree)))\n",
        "\n",
        "print('ROC AUC: {:.2f}'.format(roc_auc_score(y1_test, y1_predProba_dectree)))"
      ]
    },
    {
      "cell_type": "markdown",
      "metadata": {
        "id": "UQ7tMtTP2a9P"
      },
      "source": [
        "## Random Forest"
      ]
    },
    {
      "cell_type": "code",
      "execution_count": null,
      "metadata": {
        "id": "G4mJE5BB2dxl"
      },
      "outputs": [],
      "source": [
        "from sklearn.ensemble import RandomForestClassifier"
      ]
    },
    {
      "cell_type": "code",
      "execution_count": null,
      "metadata": {
        "id": "0lqTz9QY2ftg"
      },
      "outputs": [],
      "source": [
        "rf1 = RandomForestClassifier()\n",
        "rf1.fit(X1_train, y1_train)\n",
        "y1_pred_rf = rf1.predict(X1_test)"
      ]
    },
    {
      "cell_type": "code",
      "execution_count": null,
      "metadata": {
        "colab": {
          "base_uri": "https://localhost:8080/"
        },
        "id": "KaMbpN9w2jZg",
        "outputId": "b43c3d17-02f7-4833-b8a6-2e2c7668c619"
      },
      "outputs": [
        {
          "data": {
            "text/plain": [
              "array([0.24, 0.01, 0.49, ..., 0.29, 0.26, 0.11])"
            ]
          },
          "execution_count": 55,
          "metadata": {},
          "output_type": "execute_result"
        }
      ],
      "source": [
        "y1_predProba_rf = rf1.predict_proba(X1_test)[::,-1]\n",
        "y1_predProba_rf"
      ]
    },
    {
      "cell_type": "markdown",
      "metadata": {
        "id": "NdOoEbsy9k3U"
      },
      "source": [
        "### Random Forest Evaluation"
      ]
    },
    {
      "cell_type": "code",
      "execution_count": null,
      "metadata": {
        "colab": {
          "base_uri": "https://localhost:8080/"
        },
        "id": "PiUV4f9B9rcM",
        "outputId": "e140b847-4980-41ea-ab45-821ec6029ec4"
      },
      "outputs": [
        {
          "name": "stdout",
          "output_type": "stream",
          "text": [
            "Random Forest Score\n",
            "Accuracy: 0.79\n",
            "Precision: 0.48\n",
            "Recall: 0.26\n",
            "f1: 0.34\n",
            "ROC AUC: 0.71\n"
          ]
        }
      ],
      "source": [
        "print('Random Forest Score')\n",
        "print('Accuracy: {:.2f}'.format(accuracy_score(y1_test, y1_pred_rf)))\n",
        "print('Precision: {:.2f}'.format(precision_score(y1_test, y1_pred_rf)))\n",
        "print('Recall: {:.2f}'.format(recall_score(y1_test, y1_pred_rf)))\n",
        "print('f1: {:.2f}'.format(f1_score(y1_test, y1_pred_rf)))\n",
        "print('ROC AUC: {:.2f}'.format(roc_auc_score(y1_test, y1_predProba_rf)))"
      ]
    },
    {
      "cell_type": "markdown",
      "metadata": {
        "id": "nY8z40BPTi1J"
      },
      "source": [
        "# Treating Imbalance Data"
      ]
    },
    {
      "cell_type": "code",
      "execution_count": null,
      "metadata": {
        "id": "6ZeJ_pLNTlrf"
      },
      "outputs": [],
      "source": [
        "X2 = df1.drop('Exited', axis=1)\n",
        "y2 = df1['Exited']"
      ]
    },
    {
      "cell_type": "code",
      "execution_count": null,
      "metadata": {
        "colab": {
          "base_uri": "https://localhost:8080/"
        },
        "id": "NqRltVH-Tnp_",
        "outputId": "36cac47c-2ad1-4f5c-d3e4-0899061513a0"
      },
      "outputs": [],
      "source": [
        "# pip install imblearn"
      ]
    },
    {
      "cell_type": "code",
      "execution_count": null,
      "metadata": {
        "id": "L-5mQTwnVkU-"
      },
      "outputs": [],
      "source": [
        "from imblearn.over_sampling import SMOTE"
      ]
    },
    {
      "cell_type": "code",
      "execution_count": null,
      "metadata": {
        "id": "CXc_8GfRWSHJ"
      },
      "outputs": [],
      "source": [
        "X2_smote, y2_smote = SMOTE().fit_resample(X2, y2)"
      ]
    },
    {
      "cell_type": "code",
      "execution_count": null,
      "metadata": {
        "colab": {
          "base_uri": "https://localhost:8080/"
        },
        "id": "HBDzvA-YWTrj",
        "outputId": "cc280221-1a0c-42c3-9718-4e86a54f900e"
      },
      "outputs": [
        {
          "data": {
            "text/plain": [
              "1    7963\n",
              "0    7963\n",
              "Name: Exited, dtype: int64"
            ]
          },
          "execution_count": 61,
          "metadata": {},
          "output_type": "execute_result"
        }
      ],
      "source": [
        "y2_smote.value_counts()"
      ]
    },
    {
      "cell_type": "markdown",
      "metadata": {
        "id": "OAz55rn_XTRj"
      },
      "source": [
        "**Train-Test Balanced Data Split**"
      ]
    },
    {
      "cell_type": "code",
      "execution_count": null,
      "metadata": {
        "id": "jUHT0itzXWCv"
      },
      "outputs": [],
      "source": [
        "X2_train, X2_test, y2_train, y2_test = train_test_split(X2_smote, y2_smote, test_size=0.35, random_state=123)"
      ]
    },
    {
      "cell_type": "code",
      "execution_count": null,
      "metadata": {
        "id": "sfirj6ufXZSa"
      },
      "outputs": [],
      "source": [
        "# Feature Scaling\n",
        "X2_train = ss.fit_transform(X2_train)\n",
        "X2_test = ss.fit_transform(X2_test)"
      ]
    },
    {
      "cell_type": "code",
      "execution_count": null,
      "metadata": {
        "colab": {
          "base_uri": "https://localhost:8080/"
        },
        "id": "TCKzBWCAXbr2",
        "outputId": "a972d05a-4cf0-4ff4-d336-55a04ba90dcd"
      },
      "outputs": [
        {
          "data": {
            "text/plain": [
              "array([[ 1.20413489,  2.00014894,  2.14909184, -0.06517287,  0.76955609,\n",
              "        -0.59336856],\n",
              "       [ 1.20413489, -0.89254953,  2.19244619,  0.85394751,  0.76955609,\n",
              "         1.91763491],\n",
              "       [-0.83047174,  1.20216316, -0.45216946, -0.41625144,  0.76955609,\n",
              "        -1.0750282 ],\n",
              "       ...,\n",
              "       [ 1.20413489, -0.09456374,  0.4474334 , -0.4211022 , -1.29945043,\n",
              "         0.14592175],\n",
              "       [-0.83047174,  0.70342204,  0.57749647, -0.00864429,  0.76955609,\n",
              "        -0.47064735],\n",
              "       [ 1.20413489, -0.59330486,  0.41491764, -1.57331994,  0.76955609,\n",
              "         0.54034272]])"
            ]
          },
          "execution_count": 105,
          "metadata": {},
          "output_type": "execute_result"
        }
      ],
      "source": [
        "X2_train"
      ]
    },
    {
      "cell_type": "markdown",
      "metadata": {
        "id": "hr8YUT6cXzSL"
      },
      "source": [
        "## KNN (Balanced)"
      ]
    },
    {
      "cell_type": "code",
      "execution_count": null,
      "metadata": {
        "id": "F8UrXYwYX_Zx"
      },
      "outputs": [],
      "source": [
        "knn2 = KNeighborsClassifier()"
      ]
    },
    {
      "cell_type": "code",
      "execution_count": null,
      "metadata": {
        "id": "UFbWnht3h7IC"
      },
      "outputs": [],
      "source": [
        "knnclassifier2 = GridSearchCV(knn2, parameters, cv=10)"
      ]
    },
    {
      "cell_type": "code",
      "execution_count": null,
      "metadata": {
        "colab": {
          "base_uri": "https://localhost:8080/"
        },
        "id": "PZrp24K5h9cg",
        "outputId": "b31291e0-88b3-4377-ef18-6a95cff2f85d"
      },
      "outputs": [
        {
          "data": {
            "text/html": [
              "<style>#sk-container-id-2 {color: black;background-color: white;}#sk-container-id-2 pre{padding: 0;}#sk-container-id-2 div.sk-toggleable {background-color: white;}#sk-container-id-2 label.sk-toggleable__label {cursor: pointer;display: block;width: 100%;margin-bottom: 0;padding: 0.3em;box-sizing: border-box;text-align: center;}#sk-container-id-2 label.sk-toggleable__label-arrow:before {content: \"▸\";float: left;margin-right: 0.25em;color: #696969;}#sk-container-id-2 label.sk-toggleable__label-arrow:hover:before {color: black;}#sk-container-id-2 div.sk-estimator:hover label.sk-toggleable__label-arrow:before {color: black;}#sk-container-id-2 div.sk-toggleable__content {max-height: 0;max-width: 0;overflow: hidden;text-align: left;background-color: #f0f8ff;}#sk-container-id-2 div.sk-toggleable__content pre {margin: 0.2em;color: black;border-radius: 0.25em;background-color: #f0f8ff;}#sk-container-id-2 input.sk-toggleable__control:checked~div.sk-toggleable__content {max-height: 200px;max-width: 100%;overflow: auto;}#sk-container-id-2 input.sk-toggleable__control:checked~label.sk-toggleable__label-arrow:before {content: \"▾\";}#sk-container-id-2 div.sk-estimator input.sk-toggleable__control:checked~label.sk-toggleable__label {background-color: #d4ebff;}#sk-container-id-2 div.sk-label input.sk-toggleable__control:checked~label.sk-toggleable__label {background-color: #d4ebff;}#sk-container-id-2 input.sk-hidden--visually {border: 0;clip: rect(1px 1px 1px 1px);clip: rect(1px, 1px, 1px, 1px);height: 1px;margin: -1px;overflow: hidden;padding: 0;position: absolute;width: 1px;}#sk-container-id-2 div.sk-estimator {font-family: monospace;background-color: #f0f8ff;border: 1px dotted black;border-radius: 0.25em;box-sizing: border-box;margin-bottom: 0.5em;}#sk-container-id-2 div.sk-estimator:hover {background-color: #d4ebff;}#sk-container-id-2 div.sk-parallel-item::after {content: \"\";width: 100%;border-bottom: 1px solid gray;flex-grow: 1;}#sk-container-id-2 div.sk-label:hover label.sk-toggleable__label {background-color: #d4ebff;}#sk-container-id-2 div.sk-serial::before {content: \"\";position: absolute;border-left: 1px solid gray;box-sizing: border-box;top: 0;bottom: 0;left: 50%;z-index: 0;}#sk-container-id-2 div.sk-serial {display: flex;flex-direction: column;align-items: center;background-color: white;padding-right: 0.2em;padding-left: 0.2em;position: relative;}#sk-container-id-2 div.sk-item {position: relative;z-index: 1;}#sk-container-id-2 div.sk-parallel {display: flex;align-items: stretch;justify-content: center;background-color: white;position: relative;}#sk-container-id-2 div.sk-item::before, #sk-container-id-2 div.sk-parallel-item::before {content: \"\";position: absolute;border-left: 1px solid gray;box-sizing: border-box;top: 0;bottom: 0;left: 50%;z-index: -1;}#sk-container-id-2 div.sk-parallel-item {display: flex;flex-direction: column;z-index: 1;position: relative;background-color: white;}#sk-container-id-2 div.sk-parallel-item:first-child::after {align-self: flex-end;width: 50%;}#sk-container-id-2 div.sk-parallel-item:last-child::after {align-self: flex-start;width: 50%;}#sk-container-id-2 div.sk-parallel-item:only-child::after {width: 0;}#sk-container-id-2 div.sk-dashed-wrapped {border: 1px dashed gray;margin: 0 0.4em 0.5em 0.4em;box-sizing: border-box;padding-bottom: 0.4em;background-color: white;}#sk-container-id-2 div.sk-label label {font-family: monospace;font-weight: bold;display: inline-block;line-height: 1.2em;}#sk-container-id-2 div.sk-label-container {text-align: center;}#sk-container-id-2 div.sk-container {/* jupyter's `normalize.less` sets `[hidden] { display: none; }` but bootstrap.min.css set `[hidden] { display: none !important; }` so we also need the `!important` here to be able to override the default hidden behavior on the sphinx rendered scikit-learn.org. See: https://github.com/scikit-learn/scikit-learn/issues/21755 */display: inline-block !important;position: relative;}#sk-container-id-2 div.sk-text-repr-fallback {display: none;}</style><div id=\"sk-container-id-2\" class=\"sk-top-container\"><div class=\"sk-text-repr-fallback\"><pre>GridSearchCV(cv=10, estimator=KNeighborsClassifier(),\n",
              "             param_grid={&#x27;n_neighbors&#x27;: array([ 1,  2,  3,  4,  5,  6,  7,  8,  9, 10, 11, 12, 13, 14, 15, 16, 17,\n",
              "       18, 19, 20, 21, 22, 23, 24, 25, 26, 27, 28, 29, 30, 31, 32, 33, 34,\n",
              "       35, 36, 37, 38, 39, 40, 41, 42, 43, 44, 45, 46, 47, 48, 49, 50, 51,\n",
              "       52, 53, 54, 55, 56, 57, 58, 59, 60, 61, 62, 63, 64, 65, 66, 67, 68,\n",
              "       69, 70, 71, 72, 73, 74, 75, 76, 77, 78, 79, 80, 81, 82, 83, 84, 85,\n",
              "       86, 87, 88, 89, 90, 91, 92, 93, 94, 95, 96, 97, 98, 99])})</pre><b>In a Jupyter environment, please rerun this cell to show the HTML representation or trust the notebook. <br />On GitHub, the HTML representation is unable to render, please try loading this page with nbviewer.org.</b></div><div class=\"sk-container\" hidden><div class=\"sk-item sk-dashed-wrapped\"><div class=\"sk-label-container\"><div class=\"sk-label sk-toggleable\"><input class=\"sk-toggleable__control sk-hidden--visually\" id=\"sk-estimator-id-4\" type=\"checkbox\" ><label for=\"sk-estimator-id-4\" class=\"sk-toggleable__label sk-toggleable__label-arrow\">GridSearchCV</label><div class=\"sk-toggleable__content\"><pre>GridSearchCV(cv=10, estimator=KNeighborsClassifier(),\n",
              "             param_grid={&#x27;n_neighbors&#x27;: array([ 1,  2,  3,  4,  5,  6,  7,  8,  9, 10, 11, 12, 13, 14, 15, 16, 17,\n",
              "       18, 19, 20, 21, 22, 23, 24, 25, 26, 27, 28, 29, 30, 31, 32, 33, 34,\n",
              "       35, 36, 37, 38, 39, 40, 41, 42, 43, 44, 45, 46, 47, 48, 49, 50, 51,\n",
              "       52, 53, 54, 55, 56, 57, 58, 59, 60, 61, 62, 63, 64, 65, 66, 67, 68,\n",
              "       69, 70, 71, 72, 73, 74, 75, 76, 77, 78, 79, 80, 81, 82, 83, 84, 85,\n",
              "       86, 87, 88, 89, 90, 91, 92, 93, 94, 95, 96, 97, 98, 99])})</pre></div></div></div><div class=\"sk-parallel\"><div class=\"sk-parallel-item\"><div class=\"sk-item\"><div class=\"sk-label-container\"><div class=\"sk-label sk-toggleable\"><input class=\"sk-toggleable__control sk-hidden--visually\" id=\"sk-estimator-id-5\" type=\"checkbox\" ><label for=\"sk-estimator-id-5\" class=\"sk-toggleable__label sk-toggleable__label-arrow\">estimator: KNeighborsClassifier</label><div class=\"sk-toggleable__content\"><pre>KNeighborsClassifier()</pre></div></div></div><div class=\"sk-serial\"><div class=\"sk-item\"><div class=\"sk-estimator sk-toggleable\"><input class=\"sk-toggleable__control sk-hidden--visually\" id=\"sk-estimator-id-6\" type=\"checkbox\" ><label for=\"sk-estimator-id-6\" class=\"sk-toggleable__label sk-toggleable__label-arrow\">KNeighborsClassifier</label><div class=\"sk-toggleable__content\"><pre>KNeighborsClassifier()</pre></div></div></div></div></div></div></div></div></div></div>"
            ],
            "text/plain": [
              "GridSearchCV(cv=10, estimator=KNeighborsClassifier(),\n",
              "             param_grid={'n_neighbors': array([ 1,  2,  3,  4,  5,  6,  7,  8,  9, 10, 11, 12, 13, 14, 15, 16, 17,\n",
              "       18, 19, 20, 21, 22, 23, 24, 25, 26, 27, 28, 29, 30, 31, 32, 33, 34,\n",
              "       35, 36, 37, 38, 39, 40, 41, 42, 43, 44, 45, 46, 47, 48, 49, 50, 51,\n",
              "       52, 53, 54, 55, 56, 57, 58, 59, 60, 61, 62, 63, 64, 65, 66, 67, 68,\n",
              "       69, 70, 71, 72, 73, 74, 75, 76, 77, 78, 79, 80, 81, 82, 83, 84, 85,\n",
              "       86, 87, 88, 89, 90, 91, 92, 93, 94, 95, 96, 97, 98, 99])})"
            ]
          },
          "execution_count": 66,
          "metadata": {},
          "output_type": "execute_result"
        }
      ],
      "source": [
        "knnclassifier2.fit(X2_train, y2_train)"
      ]
    },
    {
      "cell_type": "code",
      "execution_count": null,
      "metadata": {
        "colab": {
          "base_uri": "https://localhost:8080/"
        },
        "id": "Ooa7UfWKh-w3",
        "outputId": "50313766-48c8-47cb-ead4-90d6c240d471"
      },
      "outputs": [
        {
          "name": "stdout",
          "output_type": "stream",
          "text": [
            "0.7391556152425717\n",
            "{'n_neighbors': 32}\n"
          ]
        }
      ],
      "source": [
        "print(knnclassifier2.best_score_)\n",
        "print(knnclassifier2.best_params_)"
      ]
    },
    {
      "cell_type": "code",
      "execution_count": null,
      "metadata": {
        "id": "oAhopBcKiA75"
      },
      "outputs": [],
      "source": [
        "y2_pred_knn = knnclassifier2.predict(X2_test)"
      ]
    },
    {
      "cell_type": "code",
      "execution_count": null,
      "metadata": {
        "id": "m0-cckPIiDZY"
      },
      "outputs": [],
      "source": [
        "y2_predProba_knn = knnclassifier2.predict_proba(X2_test)[::,-1]"
      ]
    },
    {
      "cell_type": "code",
      "execution_count": null,
      "metadata": {
        "colab": {
          "base_uri": "https://localhost:8080/"
        },
        "id": "1aPSXfLMiEyh",
        "outputId": "2991754f-90a0-4a98-b92d-51828181a9a5"
      },
      "outputs": [
        {
          "data": {
            "text/plain": [
              "array([0.40625, 0.65625, 0.65625, ..., 0.59375, 0.15625, 0.59375])"
            ]
          },
          "execution_count": 70,
          "metadata": {},
          "output_type": "execute_result"
        }
      ],
      "source": [
        "y2_predProba_knn"
      ]
    },
    {
      "cell_type": "markdown",
      "metadata": {
        "id": "67wuHUH5p_sx"
      },
      "source": [
        "### KNN (Balanced) Evaluation"
      ]
    },
    {
      "cell_type": "code",
      "execution_count": null,
      "metadata": {
        "colab": {
          "base_uri": "https://localhost:8080/"
        },
        "id": "Ndmb9tsnqoSe",
        "outputId": "923dd733-e8a9-4067-e071-fcdb0c67c501"
      },
      "outputs": [
        {
          "name": "stdout",
          "output_type": "stream",
          "text": [
            "KNN Score (Balanced)\n",
            "Accuracy: 0.73\n",
            "Precision: 0.73\n",
            "Recall: 0.74\n",
            "f1: 0.73\n",
            "ROC AUC: 0.81\n"
          ]
        }
      ],
      "source": [
        "print('KNN Score (Balanced)')\n",
        "print('Accuracy: {:.2f}'.format(accuracy_score(y2_test, y2_pred_knn)))\n",
        "print('Precision: {:.2f}'.format(precision_score(y2_test, y2_pred_knn)))\n",
        "print('Recall: {:.2f}'.format(recall_score(y2_test, y2_pred_knn)))\n",
        "print('f1: {:.2f}'.format(f1_score(y2_test, y2_pred_knn)))\n",
        "print('ROC AUC: {:.2f}'.format(roc_auc_score(y2_test, y2_predProba_knn)))"
      ]
    },
    {
      "cell_type": "markdown",
      "metadata": {
        "id": "m1BIuXKlqtOi"
      },
      "source": [
        "## LR (Balanced)"
      ]
    },
    {
      "cell_type": "code",
      "execution_count": null,
      "metadata": {
        "id": "9ig3y7Egqva4"
      },
      "outputs": [],
      "source": [
        "log2 = LogisticRegression()\n",
        "log2.fit(X2_train, y2_train)\n",
        "y2_pred_log = log2.predict(X2_test)"
      ]
    },
    {
      "cell_type": "markdown",
      "metadata": {
        "id": "FAcbuTonqyHu"
      },
      "source": [
        "### LR (Balanced) Evaluation"
      ]
    },
    {
      "cell_type": "code",
      "execution_count": null,
      "metadata": {
        "colab": {
          "base_uri": "https://localhost:8080/"
        },
        "id": "3zW2yndFq1Fa",
        "outputId": "52238c23-e2f4-4ef8-e4f1-bab227b4bae2"
      },
      "outputs": [
        {
          "name": "stdout",
          "output_type": "stream",
          "text": [
            "Logistic Regression (Balanced) Score\n",
            "Accuracy: 0.72\n",
            "Precision: 0.70\n",
            "Recall: 0.74\n",
            "f1: 0.72\n",
            "ROC AUC: 0.79\n"
          ]
        }
      ],
      "source": [
        "print('Logistic Regression (Balanced) Score')\n",
        "print('Accuracy: {:.2f}'.format(accuracy_score(y2_test, y2_pred_log)))\n",
        "print('Precision: {:.2f}'.format(precision_score(y2_test, y2_pred_log)))\n",
        "print('Recall: {:.2f}'.format(recall_score(y2_test, y2_pred_log)))\n",
        "print('f1: {:.2f}'.format(f1_score(y2_test, y2_pred_log)))\n",
        "\n",
        "y2_predProba_log = log2.predict_proba(X2_test)[::,-1]\n",
        "print('ROC AUC: {:.2f}'.format(roc_auc_score(y2_test, y2_predProba_log)))"
      ]
    },
    {
      "cell_type": "markdown",
      "metadata": {
        "id": "ntohFObYq3U6"
      },
      "source": [
        "## SVC (Balanced)"
      ]
    },
    {
      "cell_type": "code",
      "execution_count": null,
      "metadata": {
        "id": "_UNRQK98q5SK"
      },
      "outputs": [],
      "source": [
        "param = {}"
      ]
    },
    {
      "cell_type": "code",
      "execution_count": null,
      "metadata": {
        "id": "bwUfuCzdq9W8"
      },
      "outputs": [],
      "source": [
        "svc2 = SVC(probability=True)\n",
        "svcBestParam = GridSearchCV(svc2, param, cv=10)"
      ]
    },
    {
      "cell_type": "code",
      "execution_count": null,
      "metadata": {
        "colab": {
          "base_uri": "https://localhost:8080/"
        },
        "id": "vK-mXNs2rA1y",
        "outputId": "735ae75e-1790-43db-f714-ceb2a123a15c"
      },
      "outputs": [
        {
          "name": "stdout",
          "output_type": "stream",
          "text": [
            "{'cv': 10, 'error_score': nan, 'estimator__C': 1.0, 'estimator__break_ties': False, 'estimator__cache_size': 200, 'estimator__class_weight': None, 'estimator__coef0': 0.0, 'estimator__decision_function_shape': 'ovr', 'estimator__degree': 3, 'estimator__gamma': 'scale', 'estimator__kernel': 'rbf', 'estimator__max_iter': -1, 'estimator__probability': True, 'estimator__random_state': None, 'estimator__shrinking': True, 'estimator__tol': 0.001, 'estimator__verbose': False, 'estimator': SVC(probability=True), 'n_jobs': None, 'param_grid': {}, 'pre_dispatch': '2*n_jobs', 'refit': True, 'return_train_score': False, 'scoring': None, 'verbose': 0}\n"
          ]
        }
      ],
      "source": [
        "print(svcBestParam.get_params())"
      ]
    },
    {
      "cell_type": "code",
      "execution_count": null,
      "metadata": {
        "id": "G8BbFmS3rDgm"
      },
      "outputs": [],
      "source": [
        "svcBestParam.fit(X2_train, y2_train)\n",
        "y2_pred_svc = svcBestParam.predict(X2_test)"
      ]
    },
    {
      "cell_type": "markdown",
      "metadata": {
        "id": "Wsxx8dDGrMsC"
      },
      "source": [
        "### SVC (Balanced) Evaluation"
      ]
    },
    {
      "cell_type": "code",
      "execution_count": null,
      "metadata": {
        "colab": {
          "base_uri": "https://localhost:8080/"
        },
        "id": "Epar9t1CrPqZ",
        "outputId": "75e1fc53-c5e4-48b0-8e9e-8c213ae4e0dc"
      },
      "outputs": [
        {
          "name": "stdout",
          "output_type": "stream",
          "text": [
            "SVC (Balanced) Score\n",
            "Accuracy: 0.74\n",
            "Precision: 0.73\n",
            "Recall: 0.77\n",
            "f1: 0.75\n",
            "ROC AUC: 0.82\n"
          ]
        }
      ],
      "source": [
        "print('SVC (Balanced) Score')\n",
        "print('Accuracy: {:.2f}'.format(accuracy_score(y2_test, y2_pred_svc)))\n",
        "print('Precision: {:.2f}'.format(precision_score(y2_test, y2_pred_svc)))\n",
        "print('Recall: {:.2f}'.format(recall_score(y2_test, y2_pred_svc)))\n",
        "print('f1: {:.2f}'.format(f1_score(y2_test, y2_pred_svc)))\n",
        "\n",
        "y2_predProba_svc = svcBestParam.predict_proba(X2_test)[::,-1]\n",
        "print('ROC AUC: {:.2f}'.format(roc_auc_score(y2_test, y2_predProba_svc)))"
      ]
    },
    {
      "cell_type": "markdown",
      "metadata": {
        "id": "XEmYh5Otr2He"
      },
      "source": [
        "## Decision Tree (Balanced)"
      ]
    },
    {
      "cell_type": "code",
      "execution_count": null,
      "metadata": {
        "id": "J7rjoTf1r34F"
      },
      "outputs": [],
      "source": [
        "dectree2 = DecisionTreeClassifier()\n",
        "dectree2.fit(X2_train, y2_train)\n",
        "y2_pred_dectree = dectree2.predict(X2_test)"
      ]
    },
    {
      "cell_type": "code",
      "execution_count": null,
      "metadata": {
        "colab": {
          "base_uri": "https://localhost:8080/"
        },
        "id": "tTilsjkFr5rn",
        "outputId": "7d032187-f153-4b11-e83e-43ca914071b0"
      },
      "outputs": [
        {
          "data": {
            "text/plain": [
              "array([0., 0., 0., ..., 0., 1., 1.])"
            ]
          },
          "execution_count": 81,
          "metadata": {},
          "output_type": "execute_result"
        }
      ],
      "source": [
        "y2_predProba_dectree = dectree2.predict_proba(X2_test)[::,-1]\n",
        "y2_predProba_dectree"
      ]
    },
    {
      "cell_type": "markdown",
      "metadata": {
        "id": "4_jYzjgGr_D6"
      },
      "source": [
        "### Decision Tree (Balanced) Evaluation"
      ]
    },
    {
      "cell_type": "code",
      "execution_count": null,
      "metadata": {
        "colab": {
          "base_uri": "https://localhost:8080/"
        },
        "id": "QMUMsfDhsMCh",
        "outputId": "d6345192-a38b-4cbc-bcc3-21d65d32c8f1"
      },
      "outputs": [
        {
          "name": "stdout",
          "output_type": "stream",
          "text": [
            "Decision Tree (Balanced) Score\n",
            "Accuracy: 0.69\n",
            "Precision: 0.69\n",
            "Recall: 0.69\n",
            "f1: 0.69\n",
            "ROC AUC: 0.69\n"
          ]
        }
      ],
      "source": [
        "print('Decision Tree (Balanced) Score')\n",
        "print('Accuracy: {:.2f}'.format(accuracy_score(y2_test, y2_pred_dectree)))\n",
        "print('Precision: {:.2f}'.format(precision_score(y2_test, y2_pred_dectree)))\n",
        "print('Recall: {:.2f}'.format(recall_score(y2_test, y2_pred_dectree)))\n",
        "print('f1: {:.2f}'.format(f1_score(y2_test, y2_pred_dectree)))\n",
        "\n",
        "print('ROC AUC: {:.2f}'.format(roc_auc_score(y2_test, y2_predProba_dectree)))"
      ]
    },
    {
      "cell_type": "markdown",
      "metadata": {
        "id": "d8E_QuoKsV1J"
      },
      "source": [
        "## Random Forest (Balanced)"
      ]
    },
    {
      "cell_type": "code",
      "execution_count": null,
      "metadata": {
        "id": "-7-iM6F6ssbL"
      },
      "outputs": [],
      "source": [
        "rf2 = RandomForestClassifier()\n",
        "rf2.fit(X2_train, y2_train)\n",
        "y2_pred_rf = rf2.predict(X2_test)"
      ]
    },
    {
      "cell_type": "code",
      "execution_count": null,
      "metadata": {
        "colab": {
          "base_uri": "https://localhost:8080/"
        },
        "id": "C1UzDeZisxaG",
        "outputId": "39d8cffe-b5d9-47cc-8b10-59cde6c1e50a"
      },
      "outputs": [
        {
          "data": {
            "text/plain": [
              "array([0.22, 0.67, 0.71, ..., 0.47, 0.41, 0.67])"
            ]
          },
          "execution_count": 84,
          "metadata": {},
          "output_type": "execute_result"
        }
      ],
      "source": [
        "y2_predProba_rf = rf2.predict_proba(X2_test)[::,-1]\n",
        "y2_predProba_rf"
      ]
    },
    {
      "cell_type": "markdown",
      "metadata": {
        "id": "LnD51LEws4Tn"
      },
      "source": [
        "### Random Forest (Balanced) Evaluation"
      ]
    },
    {
      "cell_type": "code",
      "execution_count": null,
      "metadata": {
        "colab": {
          "base_uri": "https://localhost:8080/"
        },
        "id": "0JM66oSvs8SF",
        "outputId": "bc451ef3-922d-4192-b2d9-6c7c66661352"
      },
      "outputs": [
        {
          "name": "stdout",
          "output_type": "stream",
          "text": [
            "Random Forest (Balanced) Score\n",
            "Accuracy: 0.74\n",
            "Precision: 0.74\n",
            "Recall: 0.75\n",
            "f1: 0.74\n",
            "ROC AUC: 0.82\n"
          ]
        }
      ],
      "source": [
        "print('Random Forest (Balanced) Score')\n",
        "print('Accuracy: {:.2f}'.format(accuracy_score(y2_test, y2_pred_rf)))\n",
        "print('Precision: {:.2f}'.format(precision_score(y2_test, y2_pred_rf)))\n",
        "print('Recall: {:.2f}'.format(recall_score(y2_test, y2_pred_rf)))\n",
        "print('f1: {:.2f}'.format(f1_score(y2_test, y2_pred_rf)))\n",
        "\n",
        "print('ROC AUC: {:.2f}'.format(roc_auc_score(y2_test, y2_predProba_rf)))"
      ]
    },
    {
      "cell_type": "markdown",
      "metadata": {
        "id": "S49W32HUwEhH"
      },
      "source": [
        "# Feature Importance"
      ]
    },
    {
      "cell_type": "code",
      "execution_count": null,
      "metadata": {
        "id": "H9Fu5JddwHk3"
      },
      "outputs": [],
      "source": [
        "X1_train_fi = X1_train.copy()\n",
        "X1_test_fi = X1_test.copy()\n",
        "\n",
        "X2_train_fi = X2_train.copy()\n",
        "X2_test_fi = X2_test.copy()"
      ]
    },
    {
      "cell_type": "markdown",
      "metadata": {
        "id": "hJXlM2mHwJjk"
      },
      "source": [
        "**Feature Importance Sebelum SMOTE**"
      ]
    },
    {
      "cell_type": "code",
      "execution_count": null,
      "metadata": {
        "id": "LXRLsZxHwJPU"
      },
      "outputs": [],
      "source": [
        "X1_train_fi = pd.DataFrame(X1_train_fi, columns = X1.columns)\n",
        "\n",
        "X1_test_fi = pd.DataFrame(X1_test_fi, columns=X1.columns)"
      ]
    },
    {
      "cell_type": "code",
      "execution_count": null,
      "metadata": {
        "colab": {
          "base_uri": "https://localhost:8080/",
          "height": 238
        },
        "id": "R957xSSAwOdz",
        "outputId": "c10fc5f6-0834-48a7-eb96-93a280e87c27"
      },
      "outputs": [
        {
          "data": {
            "text/html": [
              "<div>\n",
              "<style scoped>\n",
              "    .dataframe tbody tr th:only-of-type {\n",
              "        vertical-align: middle;\n",
              "    }\n",
              "\n",
              "    .dataframe tbody tr th {\n",
              "        vertical-align: top;\n",
              "    }\n",
              "\n",
              "    .dataframe thead th {\n",
              "        text-align: right;\n",
              "    }\n",
              "</style>\n",
              "<table border=\"1\" class=\"dataframe\">\n",
              "  <thead>\n",
              "    <tr style=\"text-align: right;\">\n",
              "      <th></th>\n",
              "      <th>Features</th>\n",
              "      <th>Importance</th>\n",
              "    </tr>\n",
              "  </thead>\n",
              "  <tbody>\n",
              "    <tr>\n",
              "      <th>5</th>\n",
              "      <td>CrdScoreGivenAge</td>\n",
              "      <td>0.277430</td>\n",
              "    </tr>\n",
              "    <tr>\n",
              "      <th>3</th>\n",
              "      <td>EstimatedSalary</td>\n",
              "      <td>0.248451</td>\n",
              "    </tr>\n",
              "    <tr>\n",
              "      <th>2</th>\n",
              "      <td>CreditScore</td>\n",
              "      <td>0.226460</td>\n",
              "    </tr>\n",
              "    <tr>\n",
              "      <th>1</th>\n",
              "      <td>Age</td>\n",
              "      <td>0.208126</td>\n",
              "    </tr>\n",
              "    <tr>\n",
              "      <th>4</th>\n",
              "      <td>HasCrCard</td>\n",
              "      <td>0.021562</td>\n",
              "    </tr>\n",
              "    <tr>\n",
              "      <th>0</th>\n",
              "      <td>Gender</td>\n",
              "      <td>0.017971</td>\n",
              "    </tr>\n",
              "  </tbody>\n",
              "</table>\n",
              "</div>"
            ],
            "text/plain": [
              "           Features  Importance\n",
              "5  CrdScoreGivenAge    0.277430\n",
              "3   EstimatedSalary    0.248451\n",
              "2       CreditScore    0.226460\n",
              "1               Age    0.208126\n",
              "4         HasCrCard    0.021562\n",
              "0            Gender    0.017971"
            ]
          },
          "execution_count": 88,
          "metadata": {},
          "output_type": "execute_result"
        }
      ],
      "source": [
        "df_fi=pd.DataFrame(zip(X1_train_fi.columns, rf1.feature_importances_),columns=[\"Features\", \"Importance\"])\n",
        "df_fi.sort_values(by=\"Importance\", ascending=False)"
      ]
    },
    {
      "cell_type": "markdown",
      "metadata": {
        "id": "9S3u6-MBwboz"
      },
      "source": [
        "**Feature Importance Setelah SMOTE**"
      ]
    },
    {
      "cell_type": "code",
      "execution_count": null,
      "metadata": {
        "id": "iLx2UWyCweNU"
      },
      "outputs": [],
      "source": [
        "X2_train_fi = pd.DataFrame(X2_train_fi, columns = X2.columns)\n",
        "\n",
        "X2_test_fi = pd.DataFrame(X2_test_fi, columns=X2.columns)"
      ]
    },
    {
      "cell_type": "code",
      "execution_count": null,
      "metadata": {
        "colab": {
          "base_uri": "https://localhost:8080/",
          "height": 238
        },
        "id": "ouWjF2VQwgge",
        "outputId": "e82226ab-8aaf-415a-a7fe-5320a8ddd9c2"
      },
      "outputs": [
        {
          "data": {
            "text/html": [
              "<div>\n",
              "<style scoped>\n",
              "    .dataframe tbody tr th:only-of-type {\n",
              "        vertical-align: middle;\n",
              "    }\n",
              "\n",
              "    .dataframe tbody tr th {\n",
              "        vertical-align: top;\n",
              "    }\n",
              "\n",
              "    .dataframe thead th {\n",
              "        text-align: right;\n",
              "    }\n",
              "</style>\n",
              "<table border=\"1\" class=\"dataframe\">\n",
              "  <thead>\n",
              "    <tr style=\"text-align: right;\">\n",
              "      <th></th>\n",
              "      <th>Features</th>\n",
              "      <th>Importance</th>\n",
              "    </tr>\n",
              "  </thead>\n",
              "  <tbody>\n",
              "    <tr>\n",
              "      <th>5</th>\n",
              "      <td>CrdScoreGivenAge</td>\n",
              "      <td>0.267045</td>\n",
              "    </tr>\n",
              "    <tr>\n",
              "      <th>3</th>\n",
              "      <td>EstimatedSalary</td>\n",
              "      <td>0.253336</td>\n",
              "    </tr>\n",
              "    <tr>\n",
              "      <th>2</th>\n",
              "      <td>CreditScore</td>\n",
              "      <td>0.226156</td>\n",
              "    </tr>\n",
              "    <tr>\n",
              "      <th>1</th>\n",
              "      <td>Age</td>\n",
              "      <td>0.214845</td>\n",
              "    </tr>\n",
              "    <tr>\n",
              "      <th>4</th>\n",
              "      <td>HasCrCard</td>\n",
              "      <td>0.021083</td>\n",
              "    </tr>\n",
              "    <tr>\n",
              "      <th>0</th>\n",
              "      <td>Gender</td>\n",
              "      <td>0.017535</td>\n",
              "    </tr>\n",
              "  </tbody>\n",
              "</table>\n",
              "</div>"
            ],
            "text/plain": [
              "           Features  Importance\n",
              "5  CrdScoreGivenAge    0.267045\n",
              "3   EstimatedSalary    0.253336\n",
              "2       CreditScore    0.226156\n",
              "1               Age    0.214845\n",
              "4         HasCrCard    0.021083\n",
              "0            Gender    0.017535"
            ]
          },
          "execution_count": 131,
          "metadata": {},
          "output_type": "execute_result"
        }
      ],
      "source": [
        "df_fi=pd.DataFrame(zip(X1_train_fi.columns, rf1.feature_importances_),columns=[\"Features\", \"Importance\"])\n",
        "df_fi.sort_values(by=\"Importance\", ascending=False)"
      ]
    },
    {
      "cell_type": "markdown",
      "metadata": {
        "id": "eVkpB5dPww5x"
      },
      "source": [
        "# Saving Model"
      ]
    },
    {
      "cell_type": "code",
      "execution_count": null,
      "metadata": {
        "colab": {
          "base_uri": "https://localhost:8080/",
          "height": 424
        },
        "id": "I9nHq1jGw5s3",
        "outputId": "61a661c5-f5ea-4895-dc7b-01653f207225"
      },
      "outputs": [
        {
          "data": {
            "text/html": [
              "<div>\n",
              "<style scoped>\n",
              "    .dataframe tbody tr th:only-of-type {\n",
              "        vertical-align: middle;\n",
              "    }\n",
              "\n",
              "    .dataframe tbody tr th {\n",
              "        vertical-align: top;\n",
              "    }\n",
              "\n",
              "    .dataframe thead th {\n",
              "        text-align: right;\n",
              "    }\n",
              "</style>\n",
              "<table border=\"1\" class=\"dataframe\">\n",
              "  <thead>\n",
              "    <tr style=\"text-align: right;\">\n",
              "      <th></th>\n",
              "      <th>Gender</th>\n",
              "      <th>Age</th>\n",
              "      <th>CreditScore</th>\n",
              "      <th>EstimatedSalary</th>\n",
              "      <th>HasCrCard</th>\n",
              "      <th>CrdScoreGivenAge</th>\n",
              "    </tr>\n",
              "  </thead>\n",
              "  <tbody>\n",
              "    <tr>\n",
              "      <th>0</th>\n",
              "      <td>0</td>\n",
              "      <td>42</td>\n",
              "      <td>619</td>\n",
              "      <td>101348.880000</td>\n",
              "      <td>1</td>\n",
              "      <td>14.738095</td>\n",
              "    </tr>\n",
              "    <tr>\n",
              "      <th>1</th>\n",
              "      <td>0</td>\n",
              "      <td>41</td>\n",
              "      <td>608</td>\n",
              "      <td>112542.580000</td>\n",
              "      <td>0</td>\n",
              "      <td>14.829268</td>\n",
              "    </tr>\n",
              "    <tr>\n",
              "      <th>2</th>\n",
              "      <td>0</td>\n",
              "      <td>42</td>\n",
              "      <td>502</td>\n",
              "      <td>113931.570000</td>\n",
              "      <td>1</td>\n",
              "      <td>11.952381</td>\n",
              "    </tr>\n",
              "    <tr>\n",
              "      <th>3</th>\n",
              "      <td>0</td>\n",
              "      <td>39</td>\n",
              "      <td>699</td>\n",
              "      <td>93826.630000</td>\n",
              "      <td>0</td>\n",
              "      <td>17.923077</td>\n",
              "    </tr>\n",
              "    <tr>\n",
              "      <th>4</th>\n",
              "      <td>0</td>\n",
              "      <td>43</td>\n",
              "      <td>850</td>\n",
              "      <td>79084.100000</td>\n",
              "      <td>1</td>\n",
              "      <td>19.767442</td>\n",
              "    </tr>\n",
              "    <tr>\n",
              "      <th>...</th>\n",
              "      <td>...</td>\n",
              "      <td>...</td>\n",
              "      <td>...</td>\n",
              "      <td>...</td>\n",
              "      <td>...</td>\n",
              "      <td>...</td>\n",
              "    </tr>\n",
              "    <tr>\n",
              "      <th>15921</th>\n",
              "      <td>1</td>\n",
              "      <td>47</td>\n",
              "      <td>704</td>\n",
              "      <td>119858.813760</td>\n",
              "      <td>0</td>\n",
              "      <td>14.955268</td>\n",
              "    </tr>\n",
              "    <tr>\n",
              "      <th>15922</th>\n",
              "      <td>1</td>\n",
              "      <td>59</td>\n",
              "      <td>739</td>\n",
              "      <td>126755.746453</td>\n",
              "      <td>0</td>\n",
              "      <td>12.409679</td>\n",
              "    </tr>\n",
              "    <tr>\n",
              "      <th>15923</th>\n",
              "      <td>0</td>\n",
              "      <td>42</td>\n",
              "      <td>712</td>\n",
              "      <td>30071.807123</td>\n",
              "      <td>0</td>\n",
              "      <td>17.443111</td>\n",
              "    </tr>\n",
              "    <tr>\n",
              "      <th>15924</th>\n",
              "      <td>0</td>\n",
              "      <td>49</td>\n",
              "      <td>708</td>\n",
              "      <td>130780.472754</td>\n",
              "      <td>1</td>\n",
              "      <td>14.635077</td>\n",
              "    </tr>\n",
              "    <tr>\n",
              "      <th>15925</th>\n",
              "      <td>0</td>\n",
              "      <td>35</td>\n",
              "      <td>526</td>\n",
              "      <td>118633.835836</td>\n",
              "      <td>1</td>\n",
              "      <td>14.832948</td>\n",
              "    </tr>\n",
              "  </tbody>\n",
              "</table>\n",
              "<p>15926 rows × 6 columns</p>\n",
              "</div>"
            ],
            "text/plain": [
              "       Gender  Age  CreditScore  EstimatedSalary  HasCrCard  CrdScoreGivenAge\n",
              "0           0   42          619    101348.880000          1         14.738095\n",
              "1           0   41          608    112542.580000          0         14.829268\n",
              "2           0   42          502    113931.570000          1         11.952381\n",
              "3           0   39          699     93826.630000          0         17.923077\n",
              "4           0   43          850     79084.100000          1         19.767442\n",
              "...       ...  ...          ...              ...        ...               ...\n",
              "15921       1   47          704    119858.813760          0         14.955268\n",
              "15922       1   59          739    126755.746453          0         12.409679\n",
              "15923       0   42          712     30071.807123          0         17.443111\n",
              "15924       0   49          708    130780.472754          1         14.635077\n",
              "15925       0   35          526    118633.835836          1         14.832948\n",
              "\n",
              "[15926 rows x 6 columns]"
            ]
          },
          "execution_count": 90,
          "metadata": {},
          "output_type": "execute_result"
        }
      ],
      "source": [
        "X2_se = X2_smote.copy()\n",
        "\n",
        "y2_se = y2_smote.copy()\n",
        "X2_se"
      ]
    },
    {
      "cell_type": "code",
      "execution_count": null,
      "metadata": {
        "id": "8f9oRd9Zw744"
      },
      "outputs": [],
      "source": [
        "a_train, a_test, b_train, b_test = train_test_split(X2_se, y2_se, test_size=0.35, random_state=1)"
      ]
    },
    {
      "cell_type": "code",
      "execution_count": null,
      "metadata": {
        "colab": {
          "base_uri": "https://localhost:8080/",
          "height": 424
        },
        "id": "__jb-UyAw9gi",
        "outputId": "ab19e24f-34bf-4887-b9a8-e48724ade298"
      },
      "outputs": [
        {
          "data": {
            "text/html": [
              "<div>\n",
              "<style scoped>\n",
              "    .dataframe tbody tr th:only-of-type {\n",
              "        vertical-align: middle;\n",
              "    }\n",
              "\n",
              "    .dataframe tbody tr th {\n",
              "        vertical-align: top;\n",
              "    }\n",
              "\n",
              "    .dataframe thead th {\n",
              "        text-align: right;\n",
              "    }\n",
              "</style>\n",
              "<table border=\"1\" class=\"dataframe\">\n",
              "  <thead>\n",
              "    <tr style=\"text-align: right;\">\n",
              "      <th></th>\n",
              "      <th>Gender</th>\n",
              "      <th>Age</th>\n",
              "      <th>CreditScore</th>\n",
              "      <th>EstimatedSalary</th>\n",
              "      <th>HasCrCard</th>\n",
              "      <th>CrdScoreGivenAge</th>\n",
              "    </tr>\n",
              "  </thead>\n",
              "  <tbody>\n",
              "    <tr>\n",
              "      <th>15242</th>\n",
              "      <td>0</td>\n",
              "      <td>40</td>\n",
              "      <td>495</td>\n",
              "      <td>141165.937183</td>\n",
              "      <td>1</td>\n",
              "      <td>12.121917</td>\n",
              "    </tr>\n",
              "    <tr>\n",
              "      <th>4940</th>\n",
              "      <td>0</td>\n",
              "      <td>38</td>\n",
              "      <td>763</td>\n",
              "      <td>31892.820000</td>\n",
              "      <td>0</td>\n",
              "      <td>20.078947</td>\n",
              "    </tr>\n",
              "    <tr>\n",
              "      <th>15856</th>\n",
              "      <td>1</td>\n",
              "      <td>43</td>\n",
              "      <td>762</td>\n",
              "      <td>196479.303270</td>\n",
              "      <td>1</td>\n",
              "      <td>17.673918</td>\n",
              "    </tr>\n",
              "    <tr>\n",
              "      <th>5679</th>\n",
              "      <td>0</td>\n",
              "      <td>33</td>\n",
              "      <td>778</td>\n",
              "      <td>83556.650000</td>\n",
              "      <td>1</td>\n",
              "      <td>23.575758</td>\n",
              "    </tr>\n",
              "    <tr>\n",
              "      <th>11457</th>\n",
              "      <td>0</td>\n",
              "      <td>39</td>\n",
              "      <td>683</td>\n",
              "      <td>18032.220635</td>\n",
              "      <td>0</td>\n",
              "      <td>18.380958</td>\n",
              "    </tr>\n",
              "    <tr>\n",
              "      <th>...</th>\n",
              "      <td>...</td>\n",
              "      <td>...</td>\n",
              "      <td>...</td>\n",
              "      <td>...</td>\n",
              "      <td>...</td>\n",
              "      <td>...</td>\n",
              "    </tr>\n",
              "    <tr>\n",
              "      <th>905</th>\n",
              "      <td>0</td>\n",
              "      <td>45</td>\n",
              "      <td>672</td>\n",
              "      <td>92027.690000</td>\n",
              "      <td>1</td>\n",
              "      <td>14.933333</td>\n",
              "    </tr>\n",
              "    <tr>\n",
              "      <th>5192</th>\n",
              "      <td>0</td>\n",
              "      <td>39</td>\n",
              "      <td>663</td>\n",
              "      <td>101168.900000</td>\n",
              "      <td>1</td>\n",
              "      <td>17.000000</td>\n",
              "    </tr>\n",
              "    <tr>\n",
              "      <th>12172</th>\n",
              "      <td>1</td>\n",
              "      <td>45</td>\n",
              "      <td>575</td>\n",
              "      <td>108495.644373</td>\n",
              "      <td>1</td>\n",
              "      <td>12.744963</td>\n",
              "    </tr>\n",
              "    <tr>\n",
              "      <th>235</th>\n",
              "      <td>1</td>\n",
              "      <td>42</td>\n",
              "      <td>763</td>\n",
              "      <td>33462.940000</td>\n",
              "      <td>1</td>\n",
              "      <td>18.166667</td>\n",
              "    </tr>\n",
              "    <tr>\n",
              "      <th>13349</th>\n",
              "      <td>0</td>\n",
              "      <td>50</td>\n",
              "      <td>798</td>\n",
              "      <td>161812.179906</td>\n",
              "      <td>0</td>\n",
              "      <td>16.301275</td>\n",
              "    </tr>\n",
              "  </tbody>\n",
              "</table>\n",
              "<p>10351 rows × 6 columns</p>\n",
              "</div>"
            ],
            "text/plain": [
              "       Gender  Age  CreditScore  EstimatedSalary  HasCrCard  CrdScoreGivenAge\n",
              "15242       0   40          495    141165.937183          1         12.121917\n",
              "4940        0   38          763     31892.820000          0         20.078947\n",
              "15856       1   43          762    196479.303270          1         17.673918\n",
              "5679        0   33          778     83556.650000          1         23.575758\n",
              "11457       0   39          683     18032.220635          0         18.380958\n",
              "...       ...  ...          ...              ...        ...               ...\n",
              "905         0   45          672     92027.690000          1         14.933333\n",
              "5192        0   39          663    101168.900000          1         17.000000\n",
              "12172       1   45          575    108495.644373          1         12.744963\n",
              "235         1   42          763     33462.940000          1         18.166667\n",
              "13349       0   50          798    161812.179906          0         16.301275\n",
              "\n",
              "[10351 rows x 6 columns]"
            ]
          },
          "execution_count": 92,
          "metadata": {},
          "output_type": "execute_result"
        }
      ],
      "source": [
        "a_train"
      ]
    },
    {
      "cell_type": "code",
      "execution_count": null,
      "metadata": {
        "id": "KWKnzgKdxAiP"
      },
      "outputs": [],
      "source": [
        "from sklearn.pipeline import Pipeline"
      ]
    },
    {
      "cell_type": "code",
      "execution_count": null,
      "metadata": {
        "colab": {
          "base_uri": "https://localhost:8080/"
        },
        "id": "PVYn_V9dxCH5",
        "outputId": "1756e5f4-ba31-4d6d-94aa-f6f1262f088a"
      },
      "outputs": [
        {
          "data": {
            "text/html": [
              "<style>#sk-container-id-3 {color: black;background-color: white;}#sk-container-id-3 pre{padding: 0;}#sk-container-id-3 div.sk-toggleable {background-color: white;}#sk-container-id-3 label.sk-toggleable__label {cursor: pointer;display: block;width: 100%;margin-bottom: 0;padding: 0.3em;box-sizing: border-box;text-align: center;}#sk-container-id-3 label.sk-toggleable__label-arrow:before {content: \"▸\";float: left;margin-right: 0.25em;color: #696969;}#sk-container-id-3 label.sk-toggleable__label-arrow:hover:before {color: black;}#sk-container-id-3 div.sk-estimator:hover label.sk-toggleable__label-arrow:before {color: black;}#sk-container-id-3 div.sk-toggleable__content {max-height: 0;max-width: 0;overflow: hidden;text-align: left;background-color: #f0f8ff;}#sk-container-id-3 div.sk-toggleable__content pre {margin: 0.2em;color: black;border-radius: 0.25em;background-color: #f0f8ff;}#sk-container-id-3 input.sk-toggleable__control:checked~div.sk-toggleable__content {max-height: 200px;max-width: 100%;overflow: auto;}#sk-container-id-3 input.sk-toggleable__control:checked~label.sk-toggleable__label-arrow:before {content: \"▾\";}#sk-container-id-3 div.sk-estimator input.sk-toggleable__control:checked~label.sk-toggleable__label {background-color: #d4ebff;}#sk-container-id-3 div.sk-label input.sk-toggleable__control:checked~label.sk-toggleable__label {background-color: #d4ebff;}#sk-container-id-3 input.sk-hidden--visually {border: 0;clip: rect(1px 1px 1px 1px);clip: rect(1px, 1px, 1px, 1px);height: 1px;margin: -1px;overflow: hidden;padding: 0;position: absolute;width: 1px;}#sk-container-id-3 div.sk-estimator {font-family: monospace;background-color: #f0f8ff;border: 1px dotted black;border-radius: 0.25em;box-sizing: border-box;margin-bottom: 0.5em;}#sk-container-id-3 div.sk-estimator:hover {background-color: #d4ebff;}#sk-container-id-3 div.sk-parallel-item::after {content: \"\";width: 100%;border-bottom: 1px solid gray;flex-grow: 1;}#sk-container-id-3 div.sk-label:hover label.sk-toggleable__label {background-color: #d4ebff;}#sk-container-id-3 div.sk-serial::before {content: \"\";position: absolute;border-left: 1px solid gray;box-sizing: border-box;top: 0;bottom: 0;left: 50%;z-index: 0;}#sk-container-id-3 div.sk-serial {display: flex;flex-direction: column;align-items: center;background-color: white;padding-right: 0.2em;padding-left: 0.2em;position: relative;}#sk-container-id-3 div.sk-item {position: relative;z-index: 1;}#sk-container-id-3 div.sk-parallel {display: flex;align-items: stretch;justify-content: center;background-color: white;position: relative;}#sk-container-id-3 div.sk-item::before, #sk-container-id-3 div.sk-parallel-item::before {content: \"\";position: absolute;border-left: 1px solid gray;box-sizing: border-box;top: 0;bottom: 0;left: 50%;z-index: -1;}#sk-container-id-3 div.sk-parallel-item {display: flex;flex-direction: column;z-index: 1;position: relative;background-color: white;}#sk-container-id-3 div.sk-parallel-item:first-child::after {align-self: flex-end;width: 50%;}#sk-container-id-3 div.sk-parallel-item:last-child::after {align-self: flex-start;width: 50%;}#sk-container-id-3 div.sk-parallel-item:only-child::after {width: 0;}#sk-container-id-3 div.sk-dashed-wrapped {border: 1px dashed gray;margin: 0 0.4em 0.5em 0.4em;box-sizing: border-box;padding-bottom: 0.4em;background-color: white;}#sk-container-id-3 div.sk-label label {font-family: monospace;font-weight: bold;display: inline-block;line-height: 1.2em;}#sk-container-id-3 div.sk-label-container {text-align: center;}#sk-container-id-3 div.sk-container {/* jupyter's `normalize.less` sets `[hidden] { display: none; }` but bootstrap.min.css set `[hidden] { display: none !important; }` so we also need the `!important` here to be able to override the default hidden behavior on the sphinx rendered scikit-learn.org. See: https://github.com/scikit-learn/scikit-learn/issues/21755 */display: inline-block !important;position: relative;}#sk-container-id-3 div.sk-text-repr-fallback {display: none;}</style><div id=\"sk-container-id-3\" class=\"sk-top-container\"><div class=\"sk-text-repr-fallback\"><pre>Pipeline(steps=[(&#x27;scal&#x27;, StandardScaler()),\n",
              "                (&#x27;ranfor&#x27;, RandomForestClassifier())])</pre><b>In a Jupyter environment, please rerun this cell to show the HTML representation or trust the notebook. <br />On GitHub, the HTML representation is unable to render, please try loading this page with nbviewer.org.</b></div><div class=\"sk-container\" hidden><div class=\"sk-item sk-dashed-wrapped\"><div class=\"sk-label-container\"><div class=\"sk-label sk-toggleable\"><input class=\"sk-toggleable__control sk-hidden--visually\" id=\"sk-estimator-id-7\" type=\"checkbox\" ><label for=\"sk-estimator-id-7\" class=\"sk-toggleable__label sk-toggleable__label-arrow\">Pipeline</label><div class=\"sk-toggleable__content\"><pre>Pipeline(steps=[(&#x27;scal&#x27;, StandardScaler()),\n",
              "                (&#x27;ranfor&#x27;, RandomForestClassifier())])</pre></div></div></div><div class=\"sk-serial\"><div class=\"sk-item\"><div class=\"sk-estimator sk-toggleable\"><input class=\"sk-toggleable__control sk-hidden--visually\" id=\"sk-estimator-id-8\" type=\"checkbox\" ><label for=\"sk-estimator-id-8\" class=\"sk-toggleable__label sk-toggleable__label-arrow\">StandardScaler</label><div class=\"sk-toggleable__content\"><pre>StandardScaler()</pre></div></div></div><div class=\"sk-item\"><div class=\"sk-estimator sk-toggleable\"><input class=\"sk-toggleable__control sk-hidden--visually\" id=\"sk-estimator-id-9\" type=\"checkbox\" ><label for=\"sk-estimator-id-9\" class=\"sk-toggleable__label sk-toggleable__label-arrow\">RandomForestClassifier</label><div class=\"sk-toggleable__content\"><pre>RandomForestClassifier()</pre></div></div></div></div></div></div></div>"
            ],
            "text/plain": [
              "Pipeline(steps=[('scal', StandardScaler()),\n",
              "                ('ranfor', RandomForestClassifier())])"
            ]
          },
          "execution_count": 94,
          "metadata": {},
          "output_type": "execute_result"
        }
      ],
      "source": [
        "pipe = Pipeline([('scal', StandardScaler()), ('ranfor', RandomForestClassifier(n_estimators=100, criterion='gini', max_depth=None, min_samples_split=2))])\n",
        "pipe.fit(a_train, b_train)"
      ]
    },
    {
      "cell_type": "code",
      "execution_count": null,
      "metadata": {
        "colab": {
          "base_uri": "https://localhost:8080/"
        },
        "id": "oFc2eYl_xDj-",
        "outputId": "6162e714-9bc3-4742-90fc-34d9605fe74f"
      },
      "outputs": [
        {
          "data": {
            "text/html": [
              "<style>#sk-container-id-4 {color: black;background-color: white;}#sk-container-id-4 pre{padding: 0;}#sk-container-id-4 div.sk-toggleable {background-color: white;}#sk-container-id-4 label.sk-toggleable__label {cursor: pointer;display: block;width: 100%;margin-bottom: 0;padding: 0.3em;box-sizing: border-box;text-align: center;}#sk-container-id-4 label.sk-toggleable__label-arrow:before {content: \"▸\";float: left;margin-right: 0.25em;color: #696969;}#sk-container-id-4 label.sk-toggleable__label-arrow:hover:before {color: black;}#sk-container-id-4 div.sk-estimator:hover label.sk-toggleable__label-arrow:before {color: black;}#sk-container-id-4 div.sk-toggleable__content {max-height: 0;max-width: 0;overflow: hidden;text-align: left;background-color: #f0f8ff;}#sk-container-id-4 div.sk-toggleable__content pre {margin: 0.2em;color: black;border-radius: 0.25em;background-color: #f0f8ff;}#sk-container-id-4 input.sk-toggleable__control:checked~div.sk-toggleable__content {max-height: 200px;max-width: 100%;overflow: auto;}#sk-container-id-4 input.sk-toggleable__control:checked~label.sk-toggleable__label-arrow:before {content: \"▾\";}#sk-container-id-4 div.sk-estimator input.sk-toggleable__control:checked~label.sk-toggleable__label {background-color: #d4ebff;}#sk-container-id-4 div.sk-label input.sk-toggleable__control:checked~label.sk-toggleable__label {background-color: #d4ebff;}#sk-container-id-4 input.sk-hidden--visually {border: 0;clip: rect(1px 1px 1px 1px);clip: rect(1px, 1px, 1px, 1px);height: 1px;margin: -1px;overflow: hidden;padding: 0;position: absolute;width: 1px;}#sk-container-id-4 div.sk-estimator {font-family: monospace;background-color: #f0f8ff;border: 1px dotted black;border-radius: 0.25em;box-sizing: border-box;margin-bottom: 0.5em;}#sk-container-id-4 div.sk-estimator:hover {background-color: #d4ebff;}#sk-container-id-4 div.sk-parallel-item::after {content: \"\";width: 100%;border-bottom: 1px solid gray;flex-grow: 1;}#sk-container-id-4 div.sk-label:hover label.sk-toggleable__label {background-color: #d4ebff;}#sk-container-id-4 div.sk-serial::before {content: \"\";position: absolute;border-left: 1px solid gray;box-sizing: border-box;top: 0;bottom: 0;left: 50%;z-index: 0;}#sk-container-id-4 div.sk-serial {display: flex;flex-direction: column;align-items: center;background-color: white;padding-right: 0.2em;padding-left: 0.2em;position: relative;}#sk-container-id-4 div.sk-item {position: relative;z-index: 1;}#sk-container-id-4 div.sk-parallel {display: flex;align-items: stretch;justify-content: center;background-color: white;position: relative;}#sk-container-id-4 div.sk-item::before, #sk-container-id-4 div.sk-parallel-item::before {content: \"\";position: absolute;border-left: 1px solid gray;box-sizing: border-box;top: 0;bottom: 0;left: 50%;z-index: -1;}#sk-container-id-4 div.sk-parallel-item {display: flex;flex-direction: column;z-index: 1;position: relative;background-color: white;}#sk-container-id-4 div.sk-parallel-item:first-child::after {align-self: flex-end;width: 50%;}#sk-container-id-4 div.sk-parallel-item:last-child::after {align-self: flex-start;width: 50%;}#sk-container-id-4 div.sk-parallel-item:only-child::after {width: 0;}#sk-container-id-4 div.sk-dashed-wrapped {border: 1px dashed gray;margin: 0 0.4em 0.5em 0.4em;box-sizing: border-box;padding-bottom: 0.4em;background-color: white;}#sk-container-id-4 div.sk-label label {font-family: monospace;font-weight: bold;display: inline-block;line-height: 1.2em;}#sk-container-id-4 div.sk-label-container {text-align: center;}#sk-container-id-4 div.sk-container {/* jupyter's `normalize.less` sets `[hidden] { display: none; }` but bootstrap.min.css set `[hidden] { display: none !important; }` so we also need the `!important` here to be able to override the default hidden behavior on the sphinx rendered scikit-learn.org. See: https://github.com/scikit-learn/scikit-learn/issues/21755 */display: inline-block !important;position: relative;}#sk-container-id-4 div.sk-text-repr-fallback {display: none;}</style><div id=\"sk-container-id-4\" class=\"sk-top-container\"><div class=\"sk-text-repr-fallback\"><pre>Pipeline(steps=[(&#x27;scal&#x27;, StandardScaler()),\n",
              "                (&#x27;ranfor&#x27;, RandomForestClassifier())])</pre><b>In a Jupyter environment, please rerun this cell to show the HTML representation or trust the notebook. <br />On GitHub, the HTML representation is unable to render, please try loading this page with nbviewer.org.</b></div><div class=\"sk-container\" hidden><div class=\"sk-item sk-dashed-wrapped\"><div class=\"sk-label-container\"><div class=\"sk-label sk-toggleable\"><input class=\"sk-toggleable__control sk-hidden--visually\" id=\"sk-estimator-id-10\" type=\"checkbox\" ><label for=\"sk-estimator-id-10\" class=\"sk-toggleable__label sk-toggleable__label-arrow\">Pipeline</label><div class=\"sk-toggleable__content\"><pre>Pipeline(steps=[(&#x27;scal&#x27;, StandardScaler()),\n",
              "                (&#x27;ranfor&#x27;, RandomForestClassifier())])</pre></div></div></div><div class=\"sk-serial\"><div class=\"sk-item\"><div class=\"sk-estimator sk-toggleable\"><input class=\"sk-toggleable__control sk-hidden--visually\" id=\"sk-estimator-id-11\" type=\"checkbox\" ><label for=\"sk-estimator-id-11\" class=\"sk-toggleable__label sk-toggleable__label-arrow\">StandardScaler</label><div class=\"sk-toggleable__content\"><pre>StandardScaler()</pre></div></div></div><div class=\"sk-item\"><div class=\"sk-estimator sk-toggleable\"><input class=\"sk-toggleable__control sk-hidden--visually\" id=\"sk-estimator-id-12\" type=\"checkbox\" ><label for=\"sk-estimator-id-12\" class=\"sk-toggleable__label sk-toggleable__label-arrow\">RandomForestClassifier</label><div class=\"sk-toggleable__content\"><pre>RandomForestClassifier()</pre></div></div></div></div></div></div></div>"
            ],
            "text/plain": [
              "Pipeline(steps=[('scal', StandardScaler()),\n",
              "                ('ranfor', RandomForestClassifier())])"
            ]
          },
          "execution_count": 95,
          "metadata": {},
          "output_type": "execute_result"
        }
      ],
      "source": [
        "Pipeline(steps=[('scal', StandardScaler()), ('ranfor', RandomForestClassifier(n_estimators=100, criterion='gini', max_depth=None, min_samples_split=2))])"
      ]
    },
    {
      "cell_type": "code",
      "execution_count": null,
      "metadata": {
        "colab": {
          "base_uri": "https://localhost:8080/"
        },
        "id": "YCmQ6vllxSK7",
        "outputId": "00ce157d-4f63-4a28-eaa3-d9fd8114df1b"
      },
      "outputs": [
        {
          "data": {
            "text/plain": [
              "0.7531838565022422"
            ]
          },
          "execution_count": 96,
          "metadata": {},
          "output_type": "execute_result"
        }
      ],
      "source": [
        "pipe.score(a_test, b_test)"
      ]
    },
    {
      "cell_type": "code",
      "execution_count": null,
      "metadata": {
        "colab": {
          "base_uri": "https://localhost:8080/"
        },
        "id": "JkYdDdvrAOje",
        "outputId": "c3d3d09d-e71b-463c-a9a2-382798cbf252"
      },
      "outputs": [
        {
          "data": {
            "text/plain": [
              "array([0], dtype=int64)"
            ]
          },
          "execution_count": 97,
          "metadata": {},
          "output_type": "execute_result"
        }
      ],
      "source": [
        "# 0\t43\t850\t79084.100000\t1\t19.767442 -> 0 = No Churn\n",
        "# 0\t39\t699\t93826.630000\t0\t17.923077 -> 0 = No Churn\n",
        "# 0\t42\t619\t101348.880000\t1\t14.738095 -> 1 = Churn\n",
        "pipe.predict([[0, 39, 699, 93826.630000, 0, 17.923077]])"
      ]
    },
    {
      "cell_type": "code",
      "execution_count": null,
      "metadata": {
        "id": "mzPGD8_hAQLh"
      },
      "outputs": [],
      "source": [
        "import pickle"
      ]
    },
    {
      "cell_type": "code",
      "execution_count": null,
      "metadata": {
        "id": "J2BLyIpIAR8G"
      },
      "outputs": [],
      "source": [
        "fileName = 'modelpred.pkl'"
      ]
    },
    {
      "cell_type": "code",
      "execution_count": null,
      "metadata": {
        "id": "KB20aQW2ATpY"
      },
      "outputs": [],
      "source": [
        "pickle.dump(pipe, open(fileName, 'wb'))"
      ]
    },
    {
      "cell_type": "code",
      "execution_count": null,
      "metadata": {
        "id": "0BzOKPKVAU69"
      },
      "outputs": [],
      "source": [
        "loadModel = pickle.load(open('modelpred.pkl', 'rb'))"
      ]
    },
    {
      "cell_type": "code",
      "execution_count": null,
      "metadata": {
        "colab": {
          "base_uri": "https://localhost:8080/"
        },
        "id": "SqXgMdQyAVvQ",
        "outputId": "1fe654d5-e850-484c-bed2-463fc197adb1"
      },
      "outputs": [
        {
          "data": {
            "text/plain": [
              "array([1], dtype=int64)"
            ]
          },
          "execution_count": 102,
          "metadata": {},
          "output_type": "execute_result"
        }
      ],
      "source": [
        "loadModel.predict([[0, 42, 619, 101348.880000, 1, 14.738095]])"
      ]
    },
    {
      "cell_type": "code",
      "execution_count": null,
      "metadata": {
        "colab": {
          "base_uri": "https://localhost:8080/"
        },
        "id": "0GEmCRmHAW7f",
        "outputId": "76237d7e-2d9b-420b-e6fb-37801e8b905c"
      },
      "outputs": [
        {
          "name": "stdout",
          "output_type": "stream",
          "text": [
            "[1]\n",
            "The person is churned\n"
          ]
        }
      ],
      "source": [
        "# 0\t42\t502\t113931.570000\t1\t11.952381 -> 1 = Churn\n",
        "input_data = (0, 42, 502, 113931.570000, 1, 11.952381)\n",
        "\n",
        "# changing the input_data as array\n",
        "input_data_asarray = np.asarray(input_data)\n",
        "\n",
        "# reshape the array as we are predicting for one instance\n",
        "input_data_reshaped = input_data_asarray.reshape(1,-1)\n",
        "\n",
        "prediction = loadModel.predict(input_data_reshaped)\n",
        "print(prediction)\n",
        "\n",
        "if (prediction[0] == 0):\n",
        "    print('The person is not churned')\n",
        "else:\n",
        "    print('The person is churned')"
      ]
    }
  ],
  "metadata": {
    "colab": {
      "provenance": []
    },
    "kernelspec": {
      "display_name": "Python 3.10.8 64-bit",
      "language": "python",
      "name": "python3"
    },
    "language_info": {
      "codemirror_mode": {
        "name": "ipython",
        "version": 3
      },
      "file_extension": ".py",
      "mimetype": "text/x-python",
      "name": "python",
      "nbconvert_exporter": "python",
      "pygments_lexer": "ipython3",
      "version": "3.10.8"
    },
    "vscode": {
      "interpreter": {
        "hash": "58837b1b657ea91009af8409fc244ae3b5ccf93ea980d6fb6b80adc5f697f4cc"
      }
    }
  },
  "nbformat": 4,
  "nbformat_minor": 0
}
